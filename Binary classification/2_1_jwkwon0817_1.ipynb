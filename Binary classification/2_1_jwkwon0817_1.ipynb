{
  "nbformat": 4,
  "nbformat_minor": 0,
  "metadata": {
    "colab": {
      "name": "2_1_jwkwon0817_1.ipynb",
      "provenance": [],
      "collapsed_sections": []
    },
    "kernelspec": {
      "name": "python3",
      "display_name": "Python 3"
    },
    "language_info": {
      "name": "python"
    }
  },
  "cells": [
    {
      "cell_type": "markdown",
      "metadata": {
        "id": "uPhO_yfKslj5"
      },
      "source": [
        "# **Mount**"
      ]
    },
    {
      "cell_type": "code",
      "metadata": {
        "colab": {
          "base_uri": "https://localhost:8080/"
        },
        "id": "ZC9g5JizsmSb",
        "outputId": "c0be4555-d09a-43b3-d015-b9e82d099379"
      },
      "source": [
        "from google.colab import drive\n",
        "drive.mount('/content/drive')"
      ],
      "execution_count": 3,
      "outputs": [
        {
          "output_type": "stream",
          "name": "stdout",
          "text": [
            "Drive already mounted at /content/drive; to attempt to forcibly remount, call drive.mount(\"/content/drive\", force_remount=True).\n"
          ]
        }
      ]
    },
    {
      "cell_type": "markdown",
      "metadata": {
        "id": "Tid_G_0_s6D-"
      },
      "source": [
        "# **Loading Packages**"
      ]
    },
    {
      "cell_type": "code",
      "metadata": {
        "id": "6YDf46Ims7lq"
      },
      "source": [
        "import pandas as pd\n",
        "import numpy as np\n",
        "import matplotlib.pyplot as plt\n",
        "import seaborn as sns\n",
        "from sklearn.impute import SimpleImputer as Imputer\n",
        "from sklearn.preprocessing import PolynomialFeatures\n",
        "from sklearn.preprocessing import StandardScaler\n",
        "from sklearn.feature_selection import VarianceThreshold\n",
        "from sklearn.feature_selection import SelectFromModel\n",
        "from sklearn.utils import shuffle\n",
        "from sklearn.ensemble import RandomForestClassifier\n",
        "\n",
        "pd.set_option('display.max_columns', 100)"
      ],
      "execution_count": 57,
      "outputs": []
    },
    {
      "cell_type": "markdown",
      "metadata": {
        "id": "abU9cDW5uCyB"
      },
      "source": [
        "# **Loading Data**"
      ]
    },
    {
      "cell_type": "code",
      "metadata": {
        "id": "5hJ62ANLuDwH"
      },
      "source": [
        "train = pd.read_csv('drive/MyDrive/input_2/train.csv')\n",
        "test = pd.read_csv('drive/MyDrive/input_2/test.csv')"
      ],
      "execution_count": 58,
      "outputs": []
    },
    {
      "cell_type": "markdown",
      "metadata": {
        "id": "eL0ufOtsuRPa"
      },
      "source": [
        "# **Data at first sight**"
      ]
    },
    {
      "cell_type": "markdown",
      "metadata": {
        "id": "JoRNg8Lcwzkr"
      },
      "source": [
        "**Features that belong to similar groupings are tagged as such in the feature names (e.g., ind, reg, car, calc).**\n",
        "**Feature names include the postfix bin to indicate binary features and cat to indicate categorical features.**\n",
        "**Features without these designations are either continuous or ordinal.**\n",
        "**Values of -1 indicate that the feature was missing from the observation.**\n",
        "**The target columns signifies whether or not a claim was filed for that policy holder.**"
      ]
    },
    {
      "cell_type": "code",
      "metadata": {
        "colab": {
          "base_uri": "https://localhost:8080/",
          "height": 224
        },
        "id": "d-J1UowvuTTY",
        "outputId": "cdabbfa7-142f-493a-bbee-9b287aee4dcf"
      },
      "source": [
        "train.head()"
      ],
      "execution_count": 59,
      "outputs": [
        {
          "output_type": "execute_result",
          "data": {
            "text/html": [
              "<div>\n",
              "<style scoped>\n",
              "    .dataframe tbody tr th:only-of-type {\n",
              "        vertical-align: middle;\n",
              "    }\n",
              "\n",
              "    .dataframe tbody tr th {\n",
              "        vertical-align: top;\n",
              "    }\n",
              "\n",
              "    .dataframe thead th {\n",
              "        text-align: right;\n",
              "    }\n",
              "</style>\n",
              "<table border=\"1\" class=\"dataframe\">\n",
              "  <thead>\n",
              "    <tr style=\"text-align: right;\">\n",
              "      <th></th>\n",
              "      <th>id</th>\n",
              "      <th>target</th>\n",
              "      <th>ps_ind_01</th>\n",
              "      <th>ps_ind_02_cat</th>\n",
              "      <th>ps_ind_03</th>\n",
              "      <th>ps_ind_04_cat</th>\n",
              "      <th>ps_ind_05_cat</th>\n",
              "      <th>ps_ind_06_bin</th>\n",
              "      <th>ps_ind_07_bin</th>\n",
              "      <th>ps_ind_08_bin</th>\n",
              "      <th>ps_ind_09_bin</th>\n",
              "      <th>ps_ind_10_bin</th>\n",
              "      <th>ps_ind_11_bin</th>\n",
              "      <th>ps_ind_12_bin</th>\n",
              "      <th>ps_ind_13_bin</th>\n",
              "      <th>ps_ind_14</th>\n",
              "      <th>ps_ind_15</th>\n",
              "      <th>ps_ind_16_bin</th>\n",
              "      <th>ps_ind_17_bin</th>\n",
              "      <th>ps_ind_18_bin</th>\n",
              "      <th>ps_reg_01</th>\n",
              "      <th>ps_reg_02</th>\n",
              "      <th>ps_reg_03</th>\n",
              "      <th>ps_car_01_cat</th>\n",
              "      <th>ps_car_02_cat</th>\n",
              "      <th>ps_car_03_cat</th>\n",
              "      <th>ps_car_04_cat</th>\n",
              "      <th>ps_car_05_cat</th>\n",
              "      <th>ps_car_06_cat</th>\n",
              "      <th>ps_car_07_cat</th>\n",
              "      <th>ps_car_08_cat</th>\n",
              "      <th>ps_car_09_cat</th>\n",
              "      <th>ps_car_10_cat</th>\n",
              "      <th>ps_car_11_cat</th>\n",
              "      <th>ps_car_11</th>\n",
              "      <th>ps_car_12</th>\n",
              "      <th>ps_car_13</th>\n",
              "      <th>ps_car_14</th>\n",
              "      <th>ps_car_15</th>\n",
              "      <th>ps_calc_01</th>\n",
              "      <th>ps_calc_02</th>\n",
              "      <th>ps_calc_03</th>\n",
              "      <th>ps_calc_04</th>\n",
              "      <th>ps_calc_05</th>\n",
              "      <th>ps_calc_06</th>\n",
              "      <th>ps_calc_07</th>\n",
              "      <th>ps_calc_08</th>\n",
              "      <th>ps_calc_09</th>\n",
              "      <th>ps_calc_10</th>\n",
              "      <th>ps_calc_11</th>\n",
              "      <th>ps_calc_12</th>\n",
              "      <th>ps_calc_13</th>\n",
              "      <th>ps_calc_14</th>\n",
              "      <th>ps_calc_15_bin</th>\n",
              "      <th>ps_calc_16_bin</th>\n",
              "      <th>ps_calc_17_bin</th>\n",
              "      <th>ps_calc_18_bin</th>\n",
              "      <th>ps_calc_19_bin</th>\n",
              "      <th>ps_calc_20_bin</th>\n",
              "    </tr>\n",
              "  </thead>\n",
              "  <tbody>\n",
              "    <tr>\n",
              "      <th>0</th>\n",
              "      <td>7</td>\n",
              "      <td>0</td>\n",
              "      <td>2</td>\n",
              "      <td>2</td>\n",
              "      <td>5</td>\n",
              "      <td>1</td>\n",
              "      <td>0</td>\n",
              "      <td>0</td>\n",
              "      <td>1</td>\n",
              "      <td>0</td>\n",
              "      <td>0</td>\n",
              "      <td>0</td>\n",
              "      <td>0</td>\n",
              "      <td>0</td>\n",
              "      <td>0</td>\n",
              "      <td>0</td>\n",
              "      <td>11</td>\n",
              "      <td>0</td>\n",
              "      <td>1</td>\n",
              "      <td>0</td>\n",
              "      <td>0.7</td>\n",
              "      <td>0.2</td>\n",
              "      <td>0.718070</td>\n",
              "      <td>10</td>\n",
              "      <td>1</td>\n",
              "      <td>-1</td>\n",
              "      <td>0</td>\n",
              "      <td>1</td>\n",
              "      <td>4</td>\n",
              "      <td>1</td>\n",
              "      <td>0</td>\n",
              "      <td>0</td>\n",
              "      <td>1</td>\n",
              "      <td>12</td>\n",
              "      <td>2</td>\n",
              "      <td>0.400000</td>\n",
              "      <td>0.883679</td>\n",
              "      <td>0.370810</td>\n",
              "      <td>3.605551</td>\n",
              "      <td>0.6</td>\n",
              "      <td>0.5</td>\n",
              "      <td>0.2</td>\n",
              "      <td>3</td>\n",
              "      <td>1</td>\n",
              "      <td>10</td>\n",
              "      <td>1</td>\n",
              "      <td>10</td>\n",
              "      <td>1</td>\n",
              "      <td>5</td>\n",
              "      <td>9</td>\n",
              "      <td>1</td>\n",
              "      <td>5</td>\n",
              "      <td>8</td>\n",
              "      <td>0</td>\n",
              "      <td>1</td>\n",
              "      <td>1</td>\n",
              "      <td>0</td>\n",
              "      <td>0</td>\n",
              "      <td>1</td>\n",
              "    </tr>\n",
              "    <tr>\n",
              "      <th>1</th>\n",
              "      <td>9</td>\n",
              "      <td>0</td>\n",
              "      <td>1</td>\n",
              "      <td>1</td>\n",
              "      <td>7</td>\n",
              "      <td>0</td>\n",
              "      <td>0</td>\n",
              "      <td>0</td>\n",
              "      <td>0</td>\n",
              "      <td>1</td>\n",
              "      <td>0</td>\n",
              "      <td>0</td>\n",
              "      <td>0</td>\n",
              "      <td>0</td>\n",
              "      <td>0</td>\n",
              "      <td>0</td>\n",
              "      <td>3</td>\n",
              "      <td>0</td>\n",
              "      <td>0</td>\n",
              "      <td>1</td>\n",
              "      <td>0.8</td>\n",
              "      <td>0.4</td>\n",
              "      <td>0.766078</td>\n",
              "      <td>11</td>\n",
              "      <td>1</td>\n",
              "      <td>-1</td>\n",
              "      <td>0</td>\n",
              "      <td>-1</td>\n",
              "      <td>11</td>\n",
              "      <td>1</td>\n",
              "      <td>1</td>\n",
              "      <td>2</td>\n",
              "      <td>1</td>\n",
              "      <td>19</td>\n",
              "      <td>3</td>\n",
              "      <td>0.316228</td>\n",
              "      <td>0.618817</td>\n",
              "      <td>0.388716</td>\n",
              "      <td>2.449490</td>\n",
              "      <td>0.3</td>\n",
              "      <td>0.1</td>\n",
              "      <td>0.3</td>\n",
              "      <td>2</td>\n",
              "      <td>1</td>\n",
              "      <td>9</td>\n",
              "      <td>5</td>\n",
              "      <td>8</td>\n",
              "      <td>1</td>\n",
              "      <td>7</td>\n",
              "      <td>3</td>\n",
              "      <td>1</td>\n",
              "      <td>1</td>\n",
              "      <td>9</td>\n",
              "      <td>0</td>\n",
              "      <td>1</td>\n",
              "      <td>1</td>\n",
              "      <td>0</td>\n",
              "      <td>1</td>\n",
              "      <td>0</td>\n",
              "    </tr>\n",
              "    <tr>\n",
              "      <th>2</th>\n",
              "      <td>13</td>\n",
              "      <td>0</td>\n",
              "      <td>5</td>\n",
              "      <td>4</td>\n",
              "      <td>9</td>\n",
              "      <td>1</td>\n",
              "      <td>0</td>\n",
              "      <td>0</td>\n",
              "      <td>0</td>\n",
              "      <td>1</td>\n",
              "      <td>0</td>\n",
              "      <td>0</td>\n",
              "      <td>0</td>\n",
              "      <td>0</td>\n",
              "      <td>0</td>\n",
              "      <td>0</td>\n",
              "      <td>12</td>\n",
              "      <td>1</td>\n",
              "      <td>0</td>\n",
              "      <td>0</td>\n",
              "      <td>0.0</td>\n",
              "      <td>0.0</td>\n",
              "      <td>-1.000000</td>\n",
              "      <td>7</td>\n",
              "      <td>1</td>\n",
              "      <td>-1</td>\n",
              "      <td>0</td>\n",
              "      <td>-1</td>\n",
              "      <td>14</td>\n",
              "      <td>1</td>\n",
              "      <td>1</td>\n",
              "      <td>2</td>\n",
              "      <td>1</td>\n",
              "      <td>60</td>\n",
              "      <td>1</td>\n",
              "      <td>0.316228</td>\n",
              "      <td>0.641586</td>\n",
              "      <td>0.347275</td>\n",
              "      <td>3.316625</td>\n",
              "      <td>0.5</td>\n",
              "      <td>0.7</td>\n",
              "      <td>0.1</td>\n",
              "      <td>2</td>\n",
              "      <td>2</td>\n",
              "      <td>9</td>\n",
              "      <td>1</td>\n",
              "      <td>8</td>\n",
              "      <td>2</td>\n",
              "      <td>7</td>\n",
              "      <td>4</td>\n",
              "      <td>2</td>\n",
              "      <td>7</td>\n",
              "      <td>7</td>\n",
              "      <td>0</td>\n",
              "      <td>1</td>\n",
              "      <td>1</td>\n",
              "      <td>0</td>\n",
              "      <td>1</td>\n",
              "      <td>0</td>\n",
              "    </tr>\n",
              "    <tr>\n",
              "      <th>3</th>\n",
              "      <td>16</td>\n",
              "      <td>0</td>\n",
              "      <td>0</td>\n",
              "      <td>1</td>\n",
              "      <td>2</td>\n",
              "      <td>0</td>\n",
              "      <td>0</td>\n",
              "      <td>1</td>\n",
              "      <td>0</td>\n",
              "      <td>0</td>\n",
              "      <td>0</td>\n",
              "      <td>0</td>\n",
              "      <td>0</td>\n",
              "      <td>0</td>\n",
              "      <td>0</td>\n",
              "      <td>0</td>\n",
              "      <td>8</td>\n",
              "      <td>1</td>\n",
              "      <td>0</td>\n",
              "      <td>0</td>\n",
              "      <td>0.9</td>\n",
              "      <td>0.2</td>\n",
              "      <td>0.580948</td>\n",
              "      <td>7</td>\n",
              "      <td>1</td>\n",
              "      <td>0</td>\n",
              "      <td>0</td>\n",
              "      <td>1</td>\n",
              "      <td>11</td>\n",
              "      <td>1</td>\n",
              "      <td>1</td>\n",
              "      <td>3</td>\n",
              "      <td>1</td>\n",
              "      <td>104</td>\n",
              "      <td>1</td>\n",
              "      <td>0.374166</td>\n",
              "      <td>0.542949</td>\n",
              "      <td>0.294958</td>\n",
              "      <td>2.000000</td>\n",
              "      <td>0.6</td>\n",
              "      <td>0.9</td>\n",
              "      <td>0.1</td>\n",
              "      <td>2</td>\n",
              "      <td>4</td>\n",
              "      <td>7</td>\n",
              "      <td>1</td>\n",
              "      <td>8</td>\n",
              "      <td>4</td>\n",
              "      <td>2</td>\n",
              "      <td>2</td>\n",
              "      <td>2</td>\n",
              "      <td>4</td>\n",
              "      <td>9</td>\n",
              "      <td>0</td>\n",
              "      <td>0</td>\n",
              "      <td>0</td>\n",
              "      <td>0</td>\n",
              "      <td>0</td>\n",
              "      <td>0</td>\n",
              "    </tr>\n",
              "    <tr>\n",
              "      <th>4</th>\n",
              "      <td>17</td>\n",
              "      <td>0</td>\n",
              "      <td>0</td>\n",
              "      <td>2</td>\n",
              "      <td>0</td>\n",
              "      <td>1</td>\n",
              "      <td>0</td>\n",
              "      <td>1</td>\n",
              "      <td>0</td>\n",
              "      <td>0</td>\n",
              "      <td>0</td>\n",
              "      <td>0</td>\n",
              "      <td>0</td>\n",
              "      <td>0</td>\n",
              "      <td>0</td>\n",
              "      <td>0</td>\n",
              "      <td>9</td>\n",
              "      <td>1</td>\n",
              "      <td>0</td>\n",
              "      <td>0</td>\n",
              "      <td>0.7</td>\n",
              "      <td>0.6</td>\n",
              "      <td>0.840759</td>\n",
              "      <td>11</td>\n",
              "      <td>1</td>\n",
              "      <td>-1</td>\n",
              "      <td>0</td>\n",
              "      <td>-1</td>\n",
              "      <td>14</td>\n",
              "      <td>1</td>\n",
              "      <td>1</td>\n",
              "      <td>2</td>\n",
              "      <td>1</td>\n",
              "      <td>82</td>\n",
              "      <td>3</td>\n",
              "      <td>0.316070</td>\n",
              "      <td>0.565832</td>\n",
              "      <td>0.365103</td>\n",
              "      <td>2.000000</td>\n",
              "      <td>0.4</td>\n",
              "      <td>0.6</td>\n",
              "      <td>0.0</td>\n",
              "      <td>2</td>\n",
              "      <td>2</td>\n",
              "      <td>6</td>\n",
              "      <td>3</td>\n",
              "      <td>10</td>\n",
              "      <td>2</td>\n",
              "      <td>12</td>\n",
              "      <td>3</td>\n",
              "      <td>1</td>\n",
              "      <td>1</td>\n",
              "      <td>3</td>\n",
              "      <td>0</td>\n",
              "      <td>0</td>\n",
              "      <td>0</td>\n",
              "      <td>1</td>\n",
              "      <td>1</td>\n",
              "      <td>0</td>\n",
              "    </tr>\n",
              "  </tbody>\n",
              "</table>\n",
              "</div>"
            ],
            "text/plain": [
              "   id  target  ps_ind_01  ps_ind_02_cat  ps_ind_03  ps_ind_04_cat  \\\n",
              "0   7       0          2              2          5              1   \n",
              "1   9       0          1              1          7              0   \n",
              "2  13       0          5              4          9              1   \n",
              "3  16       0          0              1          2              0   \n",
              "4  17       0          0              2          0              1   \n",
              "\n",
              "   ps_ind_05_cat  ps_ind_06_bin  ps_ind_07_bin  ps_ind_08_bin  ps_ind_09_bin  \\\n",
              "0              0              0              1              0              0   \n",
              "1              0              0              0              1              0   \n",
              "2              0              0              0              1              0   \n",
              "3              0              1              0              0              0   \n",
              "4              0              1              0              0              0   \n",
              "\n",
              "   ps_ind_10_bin  ps_ind_11_bin  ps_ind_12_bin  ps_ind_13_bin  ps_ind_14  \\\n",
              "0              0              0              0              0          0   \n",
              "1              0              0              0              0          0   \n",
              "2              0              0              0              0          0   \n",
              "3              0              0              0              0          0   \n",
              "4              0              0              0              0          0   \n",
              "\n",
              "   ps_ind_15  ps_ind_16_bin  ps_ind_17_bin  ps_ind_18_bin  ps_reg_01  \\\n",
              "0         11              0              1              0        0.7   \n",
              "1          3              0              0              1        0.8   \n",
              "2         12              1              0              0        0.0   \n",
              "3          8              1              0              0        0.9   \n",
              "4          9              1              0              0        0.7   \n",
              "\n",
              "   ps_reg_02  ps_reg_03  ps_car_01_cat  ps_car_02_cat  ps_car_03_cat  \\\n",
              "0        0.2   0.718070             10              1             -1   \n",
              "1        0.4   0.766078             11              1             -1   \n",
              "2        0.0  -1.000000              7              1             -1   \n",
              "3        0.2   0.580948              7              1              0   \n",
              "4        0.6   0.840759             11              1             -1   \n",
              "\n",
              "   ps_car_04_cat  ps_car_05_cat  ps_car_06_cat  ps_car_07_cat  ps_car_08_cat  \\\n",
              "0              0              1              4              1              0   \n",
              "1              0             -1             11              1              1   \n",
              "2              0             -1             14              1              1   \n",
              "3              0              1             11              1              1   \n",
              "4              0             -1             14              1              1   \n",
              "\n",
              "   ps_car_09_cat  ps_car_10_cat  ps_car_11_cat  ps_car_11  ps_car_12  \\\n",
              "0              0              1             12          2   0.400000   \n",
              "1              2              1             19          3   0.316228   \n",
              "2              2              1             60          1   0.316228   \n",
              "3              3              1            104          1   0.374166   \n",
              "4              2              1             82          3   0.316070   \n",
              "\n",
              "   ps_car_13  ps_car_14  ps_car_15  ps_calc_01  ps_calc_02  ps_calc_03  \\\n",
              "0   0.883679   0.370810   3.605551         0.6         0.5         0.2   \n",
              "1   0.618817   0.388716   2.449490         0.3         0.1         0.3   \n",
              "2   0.641586   0.347275   3.316625         0.5         0.7         0.1   \n",
              "3   0.542949   0.294958   2.000000         0.6         0.9         0.1   \n",
              "4   0.565832   0.365103   2.000000         0.4         0.6         0.0   \n",
              "\n",
              "   ps_calc_04  ps_calc_05  ps_calc_06  ps_calc_07  ps_calc_08  ps_calc_09  \\\n",
              "0           3           1          10           1          10           1   \n",
              "1           2           1           9           5           8           1   \n",
              "2           2           2           9           1           8           2   \n",
              "3           2           4           7           1           8           4   \n",
              "4           2           2           6           3          10           2   \n",
              "\n",
              "   ps_calc_10  ps_calc_11  ps_calc_12  ps_calc_13  ps_calc_14  ps_calc_15_bin  \\\n",
              "0           5           9           1           5           8               0   \n",
              "1           7           3           1           1           9               0   \n",
              "2           7           4           2           7           7               0   \n",
              "3           2           2           2           4           9               0   \n",
              "4          12           3           1           1           3               0   \n",
              "\n",
              "   ps_calc_16_bin  ps_calc_17_bin  ps_calc_18_bin  ps_calc_19_bin  \\\n",
              "0               1               1               0               0   \n",
              "1               1               1               0               1   \n",
              "2               1               1               0               1   \n",
              "3               0               0               0               0   \n",
              "4               0               0               1               1   \n",
              "\n",
              "   ps_calc_20_bin  \n",
              "0               1  \n",
              "1               0  \n",
              "2               0  \n",
              "3               0  \n",
              "4               0  "
            ]
          },
          "metadata": {},
          "execution_count": 59
        }
      ]
    },
    {
      "cell_type": "code",
      "metadata": {
        "colab": {
          "base_uri": "https://localhost:8080/",
          "height": 224
        },
        "id": "_OiglDx_uUS5",
        "outputId": "d9c5178c-bc66-47bc-a9ae-f79d32062f58"
      },
      "source": [
        "train.tail()"
      ],
      "execution_count": 60,
      "outputs": [
        {
          "output_type": "execute_result",
          "data": {
            "text/html": [
              "<div>\n",
              "<style scoped>\n",
              "    .dataframe tbody tr th:only-of-type {\n",
              "        vertical-align: middle;\n",
              "    }\n",
              "\n",
              "    .dataframe tbody tr th {\n",
              "        vertical-align: top;\n",
              "    }\n",
              "\n",
              "    .dataframe thead th {\n",
              "        text-align: right;\n",
              "    }\n",
              "</style>\n",
              "<table border=\"1\" class=\"dataframe\">\n",
              "  <thead>\n",
              "    <tr style=\"text-align: right;\">\n",
              "      <th></th>\n",
              "      <th>id</th>\n",
              "      <th>target</th>\n",
              "      <th>ps_ind_01</th>\n",
              "      <th>ps_ind_02_cat</th>\n",
              "      <th>ps_ind_03</th>\n",
              "      <th>ps_ind_04_cat</th>\n",
              "      <th>ps_ind_05_cat</th>\n",
              "      <th>ps_ind_06_bin</th>\n",
              "      <th>ps_ind_07_bin</th>\n",
              "      <th>ps_ind_08_bin</th>\n",
              "      <th>ps_ind_09_bin</th>\n",
              "      <th>ps_ind_10_bin</th>\n",
              "      <th>ps_ind_11_bin</th>\n",
              "      <th>ps_ind_12_bin</th>\n",
              "      <th>ps_ind_13_bin</th>\n",
              "      <th>ps_ind_14</th>\n",
              "      <th>ps_ind_15</th>\n",
              "      <th>ps_ind_16_bin</th>\n",
              "      <th>ps_ind_17_bin</th>\n",
              "      <th>ps_ind_18_bin</th>\n",
              "      <th>ps_reg_01</th>\n",
              "      <th>ps_reg_02</th>\n",
              "      <th>ps_reg_03</th>\n",
              "      <th>ps_car_01_cat</th>\n",
              "      <th>ps_car_02_cat</th>\n",
              "      <th>ps_car_03_cat</th>\n",
              "      <th>ps_car_04_cat</th>\n",
              "      <th>ps_car_05_cat</th>\n",
              "      <th>ps_car_06_cat</th>\n",
              "      <th>ps_car_07_cat</th>\n",
              "      <th>ps_car_08_cat</th>\n",
              "      <th>ps_car_09_cat</th>\n",
              "      <th>ps_car_10_cat</th>\n",
              "      <th>ps_car_11_cat</th>\n",
              "      <th>ps_car_11</th>\n",
              "      <th>ps_car_12</th>\n",
              "      <th>ps_car_13</th>\n",
              "      <th>ps_car_14</th>\n",
              "      <th>ps_car_15</th>\n",
              "      <th>ps_calc_01</th>\n",
              "      <th>ps_calc_02</th>\n",
              "      <th>ps_calc_03</th>\n",
              "      <th>ps_calc_04</th>\n",
              "      <th>ps_calc_05</th>\n",
              "      <th>ps_calc_06</th>\n",
              "      <th>ps_calc_07</th>\n",
              "      <th>ps_calc_08</th>\n",
              "      <th>ps_calc_09</th>\n",
              "      <th>ps_calc_10</th>\n",
              "      <th>ps_calc_11</th>\n",
              "      <th>ps_calc_12</th>\n",
              "      <th>ps_calc_13</th>\n",
              "      <th>ps_calc_14</th>\n",
              "      <th>ps_calc_15_bin</th>\n",
              "      <th>ps_calc_16_bin</th>\n",
              "      <th>ps_calc_17_bin</th>\n",
              "      <th>ps_calc_18_bin</th>\n",
              "      <th>ps_calc_19_bin</th>\n",
              "      <th>ps_calc_20_bin</th>\n",
              "    </tr>\n",
              "  </thead>\n",
              "  <tbody>\n",
              "    <tr>\n",
              "      <th>595207</th>\n",
              "      <td>1488013</td>\n",
              "      <td>0</td>\n",
              "      <td>3</td>\n",
              "      <td>1</td>\n",
              "      <td>10</td>\n",
              "      <td>0</td>\n",
              "      <td>0</td>\n",
              "      <td>0</td>\n",
              "      <td>0</td>\n",
              "      <td>0</td>\n",
              "      <td>1</td>\n",
              "      <td>0</td>\n",
              "      <td>0</td>\n",
              "      <td>0</td>\n",
              "      <td>0</td>\n",
              "      <td>0</td>\n",
              "      <td>13</td>\n",
              "      <td>1</td>\n",
              "      <td>0</td>\n",
              "      <td>0</td>\n",
              "      <td>0.5</td>\n",
              "      <td>0.3</td>\n",
              "      <td>0.692820</td>\n",
              "      <td>10</td>\n",
              "      <td>1</td>\n",
              "      <td>-1</td>\n",
              "      <td>0</td>\n",
              "      <td>1</td>\n",
              "      <td>1</td>\n",
              "      <td>1</td>\n",
              "      <td>1</td>\n",
              "      <td>0</td>\n",
              "      <td>1</td>\n",
              "      <td>31</td>\n",
              "      <td>3</td>\n",
              "      <td>0.374166</td>\n",
              "      <td>0.684631</td>\n",
              "      <td>0.385487</td>\n",
              "      <td>2.645751</td>\n",
              "      <td>0.4</td>\n",
              "      <td>0.5</td>\n",
              "      <td>0.3</td>\n",
              "      <td>3</td>\n",
              "      <td>0</td>\n",
              "      <td>9</td>\n",
              "      <td>0</td>\n",
              "      <td>9</td>\n",
              "      <td>1</td>\n",
              "      <td>12</td>\n",
              "      <td>4</td>\n",
              "      <td>1</td>\n",
              "      <td>9</td>\n",
              "      <td>6</td>\n",
              "      <td>0</td>\n",
              "      <td>1</td>\n",
              "      <td>1</td>\n",
              "      <td>0</td>\n",
              "      <td>1</td>\n",
              "      <td>1</td>\n",
              "    </tr>\n",
              "    <tr>\n",
              "      <th>595208</th>\n",
              "      <td>1488016</td>\n",
              "      <td>0</td>\n",
              "      <td>5</td>\n",
              "      <td>1</td>\n",
              "      <td>3</td>\n",
              "      <td>0</td>\n",
              "      <td>0</td>\n",
              "      <td>0</td>\n",
              "      <td>0</td>\n",
              "      <td>0</td>\n",
              "      <td>1</td>\n",
              "      <td>0</td>\n",
              "      <td>0</td>\n",
              "      <td>0</td>\n",
              "      <td>0</td>\n",
              "      <td>0</td>\n",
              "      <td>6</td>\n",
              "      <td>1</td>\n",
              "      <td>0</td>\n",
              "      <td>0</td>\n",
              "      <td>0.9</td>\n",
              "      <td>0.7</td>\n",
              "      <td>1.382027</td>\n",
              "      <td>9</td>\n",
              "      <td>1</td>\n",
              "      <td>-1</td>\n",
              "      <td>0</td>\n",
              "      <td>-1</td>\n",
              "      <td>15</td>\n",
              "      <td>0</td>\n",
              "      <td>0</td>\n",
              "      <td>2</td>\n",
              "      <td>1</td>\n",
              "      <td>63</td>\n",
              "      <td>2</td>\n",
              "      <td>0.387298</td>\n",
              "      <td>0.972145</td>\n",
              "      <td>-1.000000</td>\n",
              "      <td>3.605551</td>\n",
              "      <td>0.2</td>\n",
              "      <td>0.2</td>\n",
              "      <td>0.0</td>\n",
              "      <td>2</td>\n",
              "      <td>4</td>\n",
              "      <td>8</td>\n",
              "      <td>6</td>\n",
              "      <td>8</td>\n",
              "      <td>2</td>\n",
              "      <td>12</td>\n",
              "      <td>4</td>\n",
              "      <td>1</td>\n",
              "      <td>3</td>\n",
              "      <td>8</td>\n",
              "      <td>1</td>\n",
              "      <td>0</td>\n",
              "      <td>1</td>\n",
              "      <td>0</td>\n",
              "      <td>1</td>\n",
              "      <td>1</td>\n",
              "    </tr>\n",
              "    <tr>\n",
              "      <th>595209</th>\n",
              "      <td>1488017</td>\n",
              "      <td>0</td>\n",
              "      <td>1</td>\n",
              "      <td>1</td>\n",
              "      <td>10</td>\n",
              "      <td>0</td>\n",
              "      <td>0</td>\n",
              "      <td>1</td>\n",
              "      <td>0</td>\n",
              "      <td>0</td>\n",
              "      <td>0</td>\n",
              "      <td>0</td>\n",
              "      <td>0</td>\n",
              "      <td>0</td>\n",
              "      <td>0</td>\n",
              "      <td>0</td>\n",
              "      <td>12</td>\n",
              "      <td>1</td>\n",
              "      <td>0</td>\n",
              "      <td>0</td>\n",
              "      <td>0.9</td>\n",
              "      <td>0.2</td>\n",
              "      <td>0.659071</td>\n",
              "      <td>7</td>\n",
              "      <td>1</td>\n",
              "      <td>-1</td>\n",
              "      <td>0</td>\n",
              "      <td>-1</td>\n",
              "      <td>1</td>\n",
              "      <td>1</td>\n",
              "      <td>1</td>\n",
              "      <td>2</td>\n",
              "      <td>1</td>\n",
              "      <td>31</td>\n",
              "      <td>3</td>\n",
              "      <td>0.397492</td>\n",
              "      <td>0.596373</td>\n",
              "      <td>0.398748</td>\n",
              "      <td>1.732051</td>\n",
              "      <td>0.4</td>\n",
              "      <td>0.0</td>\n",
              "      <td>0.3</td>\n",
              "      <td>3</td>\n",
              "      <td>2</td>\n",
              "      <td>7</td>\n",
              "      <td>4</td>\n",
              "      <td>8</td>\n",
              "      <td>0</td>\n",
              "      <td>10</td>\n",
              "      <td>3</td>\n",
              "      <td>2</td>\n",
              "      <td>2</td>\n",
              "      <td>6</td>\n",
              "      <td>0</td>\n",
              "      <td>0</td>\n",
              "      <td>1</td>\n",
              "      <td>0</td>\n",
              "      <td>0</td>\n",
              "      <td>0</td>\n",
              "    </tr>\n",
              "    <tr>\n",
              "      <th>595210</th>\n",
              "      <td>1488021</td>\n",
              "      <td>0</td>\n",
              "      <td>5</td>\n",
              "      <td>2</td>\n",
              "      <td>3</td>\n",
              "      <td>1</td>\n",
              "      <td>0</td>\n",
              "      <td>0</td>\n",
              "      <td>0</td>\n",
              "      <td>1</td>\n",
              "      <td>0</td>\n",
              "      <td>0</td>\n",
              "      <td>0</td>\n",
              "      <td>0</td>\n",
              "      <td>0</td>\n",
              "      <td>0</td>\n",
              "      <td>12</td>\n",
              "      <td>1</td>\n",
              "      <td>0</td>\n",
              "      <td>0</td>\n",
              "      <td>0.9</td>\n",
              "      <td>0.4</td>\n",
              "      <td>0.698212</td>\n",
              "      <td>11</td>\n",
              "      <td>1</td>\n",
              "      <td>-1</td>\n",
              "      <td>0</td>\n",
              "      <td>-1</td>\n",
              "      <td>11</td>\n",
              "      <td>1</td>\n",
              "      <td>1</td>\n",
              "      <td>2</td>\n",
              "      <td>1</td>\n",
              "      <td>101</td>\n",
              "      <td>3</td>\n",
              "      <td>0.374166</td>\n",
              "      <td>0.764434</td>\n",
              "      <td>0.384968</td>\n",
              "      <td>3.162278</td>\n",
              "      <td>0.0</td>\n",
              "      <td>0.7</td>\n",
              "      <td>0.0</td>\n",
              "      <td>4</td>\n",
              "      <td>0</td>\n",
              "      <td>9</td>\n",
              "      <td>4</td>\n",
              "      <td>9</td>\n",
              "      <td>2</td>\n",
              "      <td>11</td>\n",
              "      <td>4</td>\n",
              "      <td>1</td>\n",
              "      <td>4</td>\n",
              "      <td>2</td>\n",
              "      <td>0</td>\n",
              "      <td>1</td>\n",
              "      <td>1</td>\n",
              "      <td>1</td>\n",
              "      <td>0</td>\n",
              "      <td>0</td>\n",
              "    </tr>\n",
              "    <tr>\n",
              "      <th>595211</th>\n",
              "      <td>1488027</td>\n",
              "      <td>0</td>\n",
              "      <td>0</td>\n",
              "      <td>1</td>\n",
              "      <td>8</td>\n",
              "      <td>0</td>\n",
              "      <td>0</td>\n",
              "      <td>1</td>\n",
              "      <td>0</td>\n",
              "      <td>0</td>\n",
              "      <td>0</td>\n",
              "      <td>0</td>\n",
              "      <td>0</td>\n",
              "      <td>0</td>\n",
              "      <td>0</td>\n",
              "      <td>0</td>\n",
              "      <td>7</td>\n",
              "      <td>1</td>\n",
              "      <td>0</td>\n",
              "      <td>0</td>\n",
              "      <td>0.1</td>\n",
              "      <td>0.2</td>\n",
              "      <td>-1.000000</td>\n",
              "      <td>7</td>\n",
              "      <td>0</td>\n",
              "      <td>-1</td>\n",
              "      <td>0</td>\n",
              "      <td>-1</td>\n",
              "      <td>0</td>\n",
              "      <td>1</td>\n",
              "      <td>0</td>\n",
              "      <td>2</td>\n",
              "      <td>1</td>\n",
              "      <td>34</td>\n",
              "      <td>2</td>\n",
              "      <td>0.400000</td>\n",
              "      <td>0.932649</td>\n",
              "      <td>0.378021</td>\n",
              "      <td>3.741657</td>\n",
              "      <td>0.4</td>\n",
              "      <td>0.0</td>\n",
              "      <td>0.5</td>\n",
              "      <td>2</td>\n",
              "      <td>3</td>\n",
              "      <td>10</td>\n",
              "      <td>4</td>\n",
              "      <td>10</td>\n",
              "      <td>2</td>\n",
              "      <td>5</td>\n",
              "      <td>4</td>\n",
              "      <td>4</td>\n",
              "      <td>3</td>\n",
              "      <td>8</td>\n",
              "      <td>0</td>\n",
              "      <td>1</td>\n",
              "      <td>0</td>\n",
              "      <td>0</td>\n",
              "      <td>0</td>\n",
              "      <td>0</td>\n",
              "    </tr>\n",
              "  </tbody>\n",
              "</table>\n",
              "</div>"
            ],
            "text/plain": [
              "             id  target  ps_ind_01  ps_ind_02_cat  ps_ind_03  ps_ind_04_cat  \\\n",
              "595207  1488013       0          3              1         10              0   \n",
              "595208  1488016       0          5              1          3              0   \n",
              "595209  1488017       0          1              1         10              0   \n",
              "595210  1488021       0          5              2          3              1   \n",
              "595211  1488027       0          0              1          8              0   \n",
              "\n",
              "        ps_ind_05_cat  ps_ind_06_bin  ps_ind_07_bin  ps_ind_08_bin  \\\n",
              "595207              0              0              0              0   \n",
              "595208              0              0              0              0   \n",
              "595209              0              1              0              0   \n",
              "595210              0              0              0              1   \n",
              "595211              0              1              0              0   \n",
              "\n",
              "        ps_ind_09_bin  ps_ind_10_bin  ps_ind_11_bin  ps_ind_12_bin  \\\n",
              "595207              1              0              0              0   \n",
              "595208              1              0              0              0   \n",
              "595209              0              0              0              0   \n",
              "595210              0              0              0              0   \n",
              "595211              0              0              0              0   \n",
              "\n",
              "        ps_ind_13_bin  ps_ind_14  ps_ind_15  ps_ind_16_bin  ps_ind_17_bin  \\\n",
              "595207              0          0         13              1              0   \n",
              "595208              0          0          6              1              0   \n",
              "595209              0          0         12              1              0   \n",
              "595210              0          0         12              1              0   \n",
              "595211              0          0          7              1              0   \n",
              "\n",
              "        ps_ind_18_bin  ps_reg_01  ps_reg_02  ps_reg_03  ps_car_01_cat  \\\n",
              "595207              0        0.5        0.3   0.692820             10   \n",
              "595208              0        0.9        0.7   1.382027              9   \n",
              "595209              0        0.9        0.2   0.659071              7   \n",
              "595210              0        0.9        0.4   0.698212             11   \n",
              "595211              0        0.1        0.2  -1.000000              7   \n",
              "\n",
              "        ps_car_02_cat  ps_car_03_cat  ps_car_04_cat  ps_car_05_cat  \\\n",
              "595207              1             -1              0              1   \n",
              "595208              1             -1              0             -1   \n",
              "595209              1             -1              0             -1   \n",
              "595210              1             -1              0             -1   \n",
              "595211              0             -1              0             -1   \n",
              "\n",
              "        ps_car_06_cat  ps_car_07_cat  ps_car_08_cat  ps_car_09_cat  \\\n",
              "595207              1              1              1              0   \n",
              "595208             15              0              0              2   \n",
              "595209              1              1              1              2   \n",
              "595210             11              1              1              2   \n",
              "595211              0              1              0              2   \n",
              "\n",
              "        ps_car_10_cat  ps_car_11_cat  ps_car_11  ps_car_12  ps_car_13  \\\n",
              "595207              1             31          3   0.374166   0.684631   \n",
              "595208              1             63          2   0.387298   0.972145   \n",
              "595209              1             31          3   0.397492   0.596373   \n",
              "595210              1            101          3   0.374166   0.764434   \n",
              "595211              1             34          2   0.400000   0.932649   \n",
              "\n",
              "        ps_car_14  ps_car_15  ps_calc_01  ps_calc_02  ps_calc_03  ps_calc_04  \\\n",
              "595207   0.385487   2.645751         0.4         0.5         0.3           3   \n",
              "595208  -1.000000   3.605551         0.2         0.2         0.0           2   \n",
              "595209   0.398748   1.732051         0.4         0.0         0.3           3   \n",
              "595210   0.384968   3.162278         0.0         0.7         0.0           4   \n",
              "595211   0.378021   3.741657         0.4         0.0         0.5           2   \n",
              "\n",
              "        ps_calc_05  ps_calc_06  ps_calc_07  ps_calc_08  ps_calc_09  \\\n",
              "595207           0           9           0           9           1   \n",
              "595208           4           8           6           8           2   \n",
              "595209           2           7           4           8           0   \n",
              "595210           0           9           4           9           2   \n",
              "595211           3          10           4          10           2   \n",
              "\n",
              "        ps_calc_10  ps_calc_11  ps_calc_12  ps_calc_13  ps_calc_14  \\\n",
              "595207          12           4           1           9           6   \n",
              "595208          12           4           1           3           8   \n",
              "595209          10           3           2           2           6   \n",
              "595210          11           4           1           4           2   \n",
              "595211           5           4           4           3           8   \n",
              "\n",
              "        ps_calc_15_bin  ps_calc_16_bin  ps_calc_17_bin  ps_calc_18_bin  \\\n",
              "595207               0               1               1               0   \n",
              "595208               1               0               1               0   \n",
              "595209               0               0               1               0   \n",
              "595210               0               1               1               1   \n",
              "595211               0               1               0               0   \n",
              "\n",
              "        ps_calc_19_bin  ps_calc_20_bin  \n",
              "595207               1               1  \n",
              "595208               1               1  \n",
              "595209               0               0  \n",
              "595210               0               0  \n",
              "595211               0               0  "
            ]
          },
          "metadata": {},
          "execution_count": 60
        }
      ]
    },
    {
      "cell_type": "code",
      "metadata": {
        "colab": {
          "base_uri": "https://localhost:8080/"
        },
        "id": "dBj4THYpuV_9",
        "outputId": "e9a9fbc2-4c52-48db-a72d-2c2318544209"
      },
      "source": [
        "train.shape"
      ],
      "execution_count": 61,
      "outputs": [
        {
          "output_type": "execute_result",
          "data": {
            "text/plain": [
              "(595212, 59)"
            ]
          },
          "metadata": {},
          "execution_count": 61
        }
      ]
    },
    {
      "cell_type": "code",
      "metadata": {
        "colab": {
          "base_uri": "https://localhost:8080/"
        },
        "id": "T16zUaTSuXhO",
        "outputId": "d2ece40c-cc65-4d63-c415-09cb5ff7303b"
      },
      "source": [
        "train.drop_duplicates()\n",
        "train.shape"
      ],
      "execution_count": 62,
      "outputs": [
        {
          "output_type": "execute_result",
          "data": {
            "text/plain": [
              "(595212, 59)"
            ]
          },
          "metadata": {},
          "execution_count": 62
        }
      ]
    },
    {
      "cell_type": "code",
      "metadata": {
        "colab": {
          "base_uri": "https://localhost:8080/"
        },
        "id": "lHZDLsawuaT9",
        "outputId": "be8a5e80-04a2-42ee-e6fc-28e57800c9ce"
      },
      "source": [
        "test.shape"
      ],
      "execution_count": 63,
      "outputs": [
        {
          "output_type": "execute_result",
          "data": {
            "text/plain": [
              "(892816, 58)"
            ]
          },
          "metadata": {},
          "execution_count": 63
        }
      ]
    },
    {
      "cell_type": "code",
      "metadata": {
        "colab": {
          "base_uri": "https://localhost:8080/"
        },
        "id": "9z3cXVvpuccg",
        "outputId": "d34e6ad5-d446-4eb6-fe11-746a8d2c730b"
      },
      "source": [
        "train.info()"
      ],
      "execution_count": 64,
      "outputs": [
        {
          "output_type": "stream",
          "name": "stdout",
          "text": [
            "<class 'pandas.core.frame.DataFrame'>\n",
            "RangeIndex: 595212 entries, 0 to 595211\n",
            "Data columns (total 59 columns):\n",
            " #   Column          Non-Null Count   Dtype  \n",
            "---  ------          --------------   -----  \n",
            " 0   id              595212 non-null  int64  \n",
            " 1   target          595212 non-null  int64  \n",
            " 2   ps_ind_01       595212 non-null  int64  \n",
            " 3   ps_ind_02_cat   595212 non-null  int64  \n",
            " 4   ps_ind_03       595212 non-null  int64  \n",
            " 5   ps_ind_04_cat   595212 non-null  int64  \n",
            " 6   ps_ind_05_cat   595212 non-null  int64  \n",
            " 7   ps_ind_06_bin   595212 non-null  int64  \n",
            " 8   ps_ind_07_bin   595212 non-null  int64  \n",
            " 9   ps_ind_08_bin   595212 non-null  int64  \n",
            " 10  ps_ind_09_bin   595212 non-null  int64  \n",
            " 11  ps_ind_10_bin   595212 non-null  int64  \n",
            " 12  ps_ind_11_bin   595212 non-null  int64  \n",
            " 13  ps_ind_12_bin   595212 non-null  int64  \n",
            " 14  ps_ind_13_bin   595212 non-null  int64  \n",
            " 15  ps_ind_14       595212 non-null  int64  \n",
            " 16  ps_ind_15       595212 non-null  int64  \n",
            " 17  ps_ind_16_bin   595212 non-null  int64  \n",
            " 18  ps_ind_17_bin   595212 non-null  int64  \n",
            " 19  ps_ind_18_bin   595212 non-null  int64  \n",
            " 20  ps_reg_01       595212 non-null  float64\n",
            " 21  ps_reg_02       595212 non-null  float64\n",
            " 22  ps_reg_03       595212 non-null  float64\n",
            " 23  ps_car_01_cat   595212 non-null  int64  \n",
            " 24  ps_car_02_cat   595212 non-null  int64  \n",
            " 25  ps_car_03_cat   595212 non-null  int64  \n",
            " 26  ps_car_04_cat   595212 non-null  int64  \n",
            " 27  ps_car_05_cat   595212 non-null  int64  \n",
            " 28  ps_car_06_cat   595212 non-null  int64  \n",
            " 29  ps_car_07_cat   595212 non-null  int64  \n",
            " 30  ps_car_08_cat   595212 non-null  int64  \n",
            " 31  ps_car_09_cat   595212 non-null  int64  \n",
            " 32  ps_car_10_cat   595212 non-null  int64  \n",
            " 33  ps_car_11_cat   595212 non-null  int64  \n",
            " 34  ps_car_11       595212 non-null  int64  \n",
            " 35  ps_car_12       595212 non-null  float64\n",
            " 36  ps_car_13       595212 non-null  float64\n",
            " 37  ps_car_14       595212 non-null  float64\n",
            " 38  ps_car_15       595212 non-null  float64\n",
            " 39  ps_calc_01      595212 non-null  float64\n",
            " 40  ps_calc_02      595212 non-null  float64\n",
            " 41  ps_calc_03      595212 non-null  float64\n",
            " 42  ps_calc_04      595212 non-null  int64  \n",
            " 43  ps_calc_05      595212 non-null  int64  \n",
            " 44  ps_calc_06      595212 non-null  int64  \n",
            " 45  ps_calc_07      595212 non-null  int64  \n",
            " 46  ps_calc_08      595212 non-null  int64  \n",
            " 47  ps_calc_09      595212 non-null  int64  \n",
            " 48  ps_calc_10      595212 non-null  int64  \n",
            " 49  ps_calc_11      595212 non-null  int64  \n",
            " 50  ps_calc_12      595212 non-null  int64  \n",
            " 51  ps_calc_13      595212 non-null  int64  \n",
            " 52  ps_calc_14      595212 non-null  int64  \n",
            " 53  ps_calc_15_bin  595212 non-null  int64  \n",
            " 54  ps_calc_16_bin  595212 non-null  int64  \n",
            " 55  ps_calc_17_bin  595212 non-null  int64  \n",
            " 56  ps_calc_18_bin  595212 non-null  int64  \n",
            " 57  ps_calc_19_bin  595212 non-null  int64  \n",
            " 58  ps_calc_20_bin  595212 non-null  int64  \n",
            "dtypes: float64(10), int64(49)\n",
            "memory usage: 267.9 MB\n"
          ]
        }
      ]
    },
    {
      "cell_type": "markdown",
      "metadata": {
        "id": "3pinOIR9uxn-"
      },
      "source": [
        "# **Metadata**"
      ]
    },
    {
      "cell_type": "markdown",
      "metadata": {
        "id": "JfmLU86ixCUD"
      },
      "source": [
        "* **role: input, ID, target**\n",
        "* **level: nominal, interval, ordinal, binary**\n",
        "* **keep: True or False**\n",
        "* **dtype: int, float, str**"
      ]
    },
    {
      "cell_type": "code",
      "metadata": {
        "id": "0iyKyxidu4Yq"
      },
      "source": [
        "data = []\n",
        "for f in train.columns:\n",
        "    # Defining the role\n",
        "    if f == 'target':\n",
        "        role = 'target'\n",
        "    elif f == 'id':\n",
        "        role = 'id'\n",
        "    else:\n",
        "        role = 'input'\n",
        "\n",
        "    # Defining the level\n",
        "    if 'bin' in f or f == 'target':\n",
        "        level = 'binary'\n",
        "    elif 'cat' in f or f == 'id':\n",
        "        level = 'nominal'\n",
        "    elif train[f].dtype == float:\n",
        "        level = 'interval'\n",
        "    elif train[f].dtype == int:\n",
        "        level = 'ordinal'\n",
        "\n",
        "    # Initialize keep to True for all variables except for id\n",
        "    keep = True\n",
        "    if f == 'id':\n",
        "        keep = False\n",
        "\n",
        "    # Defining the data type\n",
        "    dtype = train[f].dtype\n",
        "\n",
        "    # Creating a Dict that contains all the metadata for the variable\n",
        "    f_dict = {\n",
        "        'varname': f, \n",
        "        'role': role, \n",
        "        'level': level, \n",
        "        'keep': keep, \n",
        "        'dtype': dtype\n",
        "    }\n",
        "    data.append(f_dict)\n",
        "\n",
        "meta = pd.DataFrame(data, columns=['varname', 'role', 'level', 'keep', 'dtype'])\n",
        "meta.set_index('varname', inplace=True)"
      ],
      "execution_count": 65,
      "outputs": []
    },
    {
      "cell_type": "code",
      "metadata": {
        "colab": {
          "base_uri": "https://localhost:8080/",
          "height": 1000
        },
        "id": "ffPZtYo_vwSt",
        "outputId": "d58f4a71-06c9-4d43-f9fc-d5bdd1cd041e"
      },
      "source": [
        "meta"
      ],
      "execution_count": 66,
      "outputs": [
        {
          "output_type": "execute_result",
          "data": {
            "text/html": [
              "<div>\n",
              "<style scoped>\n",
              "    .dataframe tbody tr th:only-of-type {\n",
              "        vertical-align: middle;\n",
              "    }\n",
              "\n",
              "    .dataframe tbody tr th {\n",
              "        vertical-align: top;\n",
              "    }\n",
              "\n",
              "    .dataframe thead th {\n",
              "        text-align: right;\n",
              "    }\n",
              "</style>\n",
              "<table border=\"1\" class=\"dataframe\">\n",
              "  <thead>\n",
              "    <tr style=\"text-align: right;\">\n",
              "      <th></th>\n",
              "      <th>role</th>\n",
              "      <th>level</th>\n",
              "      <th>keep</th>\n",
              "      <th>dtype</th>\n",
              "    </tr>\n",
              "    <tr>\n",
              "      <th>varname</th>\n",
              "      <th></th>\n",
              "      <th></th>\n",
              "      <th></th>\n",
              "      <th></th>\n",
              "    </tr>\n",
              "  </thead>\n",
              "  <tbody>\n",
              "    <tr>\n",
              "      <th>id</th>\n",
              "      <td>id</td>\n",
              "      <td>nominal</td>\n",
              "      <td>False</td>\n",
              "      <td>int64</td>\n",
              "    </tr>\n",
              "    <tr>\n",
              "      <th>target</th>\n",
              "      <td>target</td>\n",
              "      <td>binary</td>\n",
              "      <td>True</td>\n",
              "      <td>int64</td>\n",
              "    </tr>\n",
              "    <tr>\n",
              "      <th>ps_ind_01</th>\n",
              "      <td>input</td>\n",
              "      <td>ordinal</td>\n",
              "      <td>True</td>\n",
              "      <td>int64</td>\n",
              "    </tr>\n",
              "    <tr>\n",
              "      <th>ps_ind_02_cat</th>\n",
              "      <td>input</td>\n",
              "      <td>nominal</td>\n",
              "      <td>True</td>\n",
              "      <td>int64</td>\n",
              "    </tr>\n",
              "    <tr>\n",
              "      <th>ps_ind_03</th>\n",
              "      <td>input</td>\n",
              "      <td>ordinal</td>\n",
              "      <td>True</td>\n",
              "      <td>int64</td>\n",
              "    </tr>\n",
              "    <tr>\n",
              "      <th>ps_ind_04_cat</th>\n",
              "      <td>input</td>\n",
              "      <td>nominal</td>\n",
              "      <td>True</td>\n",
              "      <td>int64</td>\n",
              "    </tr>\n",
              "    <tr>\n",
              "      <th>ps_ind_05_cat</th>\n",
              "      <td>input</td>\n",
              "      <td>nominal</td>\n",
              "      <td>True</td>\n",
              "      <td>int64</td>\n",
              "    </tr>\n",
              "    <tr>\n",
              "      <th>ps_ind_06_bin</th>\n",
              "      <td>input</td>\n",
              "      <td>binary</td>\n",
              "      <td>True</td>\n",
              "      <td>int64</td>\n",
              "    </tr>\n",
              "    <tr>\n",
              "      <th>ps_ind_07_bin</th>\n",
              "      <td>input</td>\n",
              "      <td>binary</td>\n",
              "      <td>True</td>\n",
              "      <td>int64</td>\n",
              "    </tr>\n",
              "    <tr>\n",
              "      <th>ps_ind_08_bin</th>\n",
              "      <td>input</td>\n",
              "      <td>binary</td>\n",
              "      <td>True</td>\n",
              "      <td>int64</td>\n",
              "    </tr>\n",
              "    <tr>\n",
              "      <th>ps_ind_09_bin</th>\n",
              "      <td>input</td>\n",
              "      <td>binary</td>\n",
              "      <td>True</td>\n",
              "      <td>int64</td>\n",
              "    </tr>\n",
              "    <tr>\n",
              "      <th>ps_ind_10_bin</th>\n",
              "      <td>input</td>\n",
              "      <td>binary</td>\n",
              "      <td>True</td>\n",
              "      <td>int64</td>\n",
              "    </tr>\n",
              "    <tr>\n",
              "      <th>ps_ind_11_bin</th>\n",
              "      <td>input</td>\n",
              "      <td>binary</td>\n",
              "      <td>True</td>\n",
              "      <td>int64</td>\n",
              "    </tr>\n",
              "    <tr>\n",
              "      <th>ps_ind_12_bin</th>\n",
              "      <td>input</td>\n",
              "      <td>binary</td>\n",
              "      <td>True</td>\n",
              "      <td>int64</td>\n",
              "    </tr>\n",
              "    <tr>\n",
              "      <th>ps_ind_13_bin</th>\n",
              "      <td>input</td>\n",
              "      <td>binary</td>\n",
              "      <td>True</td>\n",
              "      <td>int64</td>\n",
              "    </tr>\n",
              "    <tr>\n",
              "      <th>ps_ind_14</th>\n",
              "      <td>input</td>\n",
              "      <td>ordinal</td>\n",
              "      <td>True</td>\n",
              "      <td>int64</td>\n",
              "    </tr>\n",
              "    <tr>\n",
              "      <th>ps_ind_15</th>\n",
              "      <td>input</td>\n",
              "      <td>ordinal</td>\n",
              "      <td>True</td>\n",
              "      <td>int64</td>\n",
              "    </tr>\n",
              "    <tr>\n",
              "      <th>ps_ind_16_bin</th>\n",
              "      <td>input</td>\n",
              "      <td>binary</td>\n",
              "      <td>True</td>\n",
              "      <td>int64</td>\n",
              "    </tr>\n",
              "    <tr>\n",
              "      <th>ps_ind_17_bin</th>\n",
              "      <td>input</td>\n",
              "      <td>binary</td>\n",
              "      <td>True</td>\n",
              "      <td>int64</td>\n",
              "    </tr>\n",
              "    <tr>\n",
              "      <th>ps_ind_18_bin</th>\n",
              "      <td>input</td>\n",
              "      <td>binary</td>\n",
              "      <td>True</td>\n",
              "      <td>int64</td>\n",
              "    </tr>\n",
              "    <tr>\n",
              "      <th>ps_reg_01</th>\n",
              "      <td>input</td>\n",
              "      <td>interval</td>\n",
              "      <td>True</td>\n",
              "      <td>float64</td>\n",
              "    </tr>\n",
              "    <tr>\n",
              "      <th>ps_reg_02</th>\n",
              "      <td>input</td>\n",
              "      <td>interval</td>\n",
              "      <td>True</td>\n",
              "      <td>float64</td>\n",
              "    </tr>\n",
              "    <tr>\n",
              "      <th>ps_reg_03</th>\n",
              "      <td>input</td>\n",
              "      <td>interval</td>\n",
              "      <td>True</td>\n",
              "      <td>float64</td>\n",
              "    </tr>\n",
              "    <tr>\n",
              "      <th>ps_car_01_cat</th>\n",
              "      <td>input</td>\n",
              "      <td>nominal</td>\n",
              "      <td>True</td>\n",
              "      <td>int64</td>\n",
              "    </tr>\n",
              "    <tr>\n",
              "      <th>ps_car_02_cat</th>\n",
              "      <td>input</td>\n",
              "      <td>nominal</td>\n",
              "      <td>True</td>\n",
              "      <td>int64</td>\n",
              "    </tr>\n",
              "    <tr>\n",
              "      <th>ps_car_03_cat</th>\n",
              "      <td>input</td>\n",
              "      <td>nominal</td>\n",
              "      <td>True</td>\n",
              "      <td>int64</td>\n",
              "    </tr>\n",
              "    <tr>\n",
              "      <th>ps_car_04_cat</th>\n",
              "      <td>input</td>\n",
              "      <td>nominal</td>\n",
              "      <td>True</td>\n",
              "      <td>int64</td>\n",
              "    </tr>\n",
              "    <tr>\n",
              "      <th>ps_car_05_cat</th>\n",
              "      <td>input</td>\n",
              "      <td>nominal</td>\n",
              "      <td>True</td>\n",
              "      <td>int64</td>\n",
              "    </tr>\n",
              "    <tr>\n",
              "      <th>ps_car_06_cat</th>\n",
              "      <td>input</td>\n",
              "      <td>nominal</td>\n",
              "      <td>True</td>\n",
              "      <td>int64</td>\n",
              "    </tr>\n",
              "    <tr>\n",
              "      <th>ps_car_07_cat</th>\n",
              "      <td>input</td>\n",
              "      <td>nominal</td>\n",
              "      <td>True</td>\n",
              "      <td>int64</td>\n",
              "    </tr>\n",
              "    <tr>\n",
              "      <th>ps_car_08_cat</th>\n",
              "      <td>input</td>\n",
              "      <td>nominal</td>\n",
              "      <td>True</td>\n",
              "      <td>int64</td>\n",
              "    </tr>\n",
              "    <tr>\n",
              "      <th>ps_car_09_cat</th>\n",
              "      <td>input</td>\n",
              "      <td>nominal</td>\n",
              "      <td>True</td>\n",
              "      <td>int64</td>\n",
              "    </tr>\n",
              "    <tr>\n",
              "      <th>ps_car_10_cat</th>\n",
              "      <td>input</td>\n",
              "      <td>nominal</td>\n",
              "      <td>True</td>\n",
              "      <td>int64</td>\n",
              "    </tr>\n",
              "    <tr>\n",
              "      <th>ps_car_11_cat</th>\n",
              "      <td>input</td>\n",
              "      <td>nominal</td>\n",
              "      <td>True</td>\n",
              "      <td>int64</td>\n",
              "    </tr>\n",
              "    <tr>\n",
              "      <th>ps_car_11</th>\n",
              "      <td>input</td>\n",
              "      <td>ordinal</td>\n",
              "      <td>True</td>\n",
              "      <td>int64</td>\n",
              "    </tr>\n",
              "    <tr>\n",
              "      <th>ps_car_12</th>\n",
              "      <td>input</td>\n",
              "      <td>interval</td>\n",
              "      <td>True</td>\n",
              "      <td>float64</td>\n",
              "    </tr>\n",
              "    <tr>\n",
              "      <th>ps_car_13</th>\n",
              "      <td>input</td>\n",
              "      <td>interval</td>\n",
              "      <td>True</td>\n",
              "      <td>float64</td>\n",
              "    </tr>\n",
              "    <tr>\n",
              "      <th>ps_car_14</th>\n",
              "      <td>input</td>\n",
              "      <td>interval</td>\n",
              "      <td>True</td>\n",
              "      <td>float64</td>\n",
              "    </tr>\n",
              "    <tr>\n",
              "      <th>ps_car_15</th>\n",
              "      <td>input</td>\n",
              "      <td>interval</td>\n",
              "      <td>True</td>\n",
              "      <td>float64</td>\n",
              "    </tr>\n",
              "    <tr>\n",
              "      <th>ps_calc_01</th>\n",
              "      <td>input</td>\n",
              "      <td>interval</td>\n",
              "      <td>True</td>\n",
              "      <td>float64</td>\n",
              "    </tr>\n",
              "    <tr>\n",
              "      <th>ps_calc_02</th>\n",
              "      <td>input</td>\n",
              "      <td>interval</td>\n",
              "      <td>True</td>\n",
              "      <td>float64</td>\n",
              "    </tr>\n",
              "    <tr>\n",
              "      <th>ps_calc_03</th>\n",
              "      <td>input</td>\n",
              "      <td>interval</td>\n",
              "      <td>True</td>\n",
              "      <td>float64</td>\n",
              "    </tr>\n",
              "    <tr>\n",
              "      <th>ps_calc_04</th>\n",
              "      <td>input</td>\n",
              "      <td>ordinal</td>\n",
              "      <td>True</td>\n",
              "      <td>int64</td>\n",
              "    </tr>\n",
              "    <tr>\n",
              "      <th>ps_calc_05</th>\n",
              "      <td>input</td>\n",
              "      <td>ordinal</td>\n",
              "      <td>True</td>\n",
              "      <td>int64</td>\n",
              "    </tr>\n",
              "    <tr>\n",
              "      <th>ps_calc_06</th>\n",
              "      <td>input</td>\n",
              "      <td>ordinal</td>\n",
              "      <td>True</td>\n",
              "      <td>int64</td>\n",
              "    </tr>\n",
              "    <tr>\n",
              "      <th>ps_calc_07</th>\n",
              "      <td>input</td>\n",
              "      <td>ordinal</td>\n",
              "      <td>True</td>\n",
              "      <td>int64</td>\n",
              "    </tr>\n",
              "    <tr>\n",
              "      <th>ps_calc_08</th>\n",
              "      <td>input</td>\n",
              "      <td>ordinal</td>\n",
              "      <td>True</td>\n",
              "      <td>int64</td>\n",
              "    </tr>\n",
              "    <tr>\n",
              "      <th>ps_calc_09</th>\n",
              "      <td>input</td>\n",
              "      <td>ordinal</td>\n",
              "      <td>True</td>\n",
              "      <td>int64</td>\n",
              "    </tr>\n",
              "    <tr>\n",
              "      <th>ps_calc_10</th>\n",
              "      <td>input</td>\n",
              "      <td>ordinal</td>\n",
              "      <td>True</td>\n",
              "      <td>int64</td>\n",
              "    </tr>\n",
              "    <tr>\n",
              "      <th>ps_calc_11</th>\n",
              "      <td>input</td>\n",
              "      <td>ordinal</td>\n",
              "      <td>True</td>\n",
              "      <td>int64</td>\n",
              "    </tr>\n",
              "    <tr>\n",
              "      <th>ps_calc_12</th>\n",
              "      <td>input</td>\n",
              "      <td>ordinal</td>\n",
              "      <td>True</td>\n",
              "      <td>int64</td>\n",
              "    </tr>\n",
              "    <tr>\n",
              "      <th>ps_calc_13</th>\n",
              "      <td>input</td>\n",
              "      <td>ordinal</td>\n",
              "      <td>True</td>\n",
              "      <td>int64</td>\n",
              "    </tr>\n",
              "    <tr>\n",
              "      <th>ps_calc_14</th>\n",
              "      <td>input</td>\n",
              "      <td>ordinal</td>\n",
              "      <td>True</td>\n",
              "      <td>int64</td>\n",
              "    </tr>\n",
              "    <tr>\n",
              "      <th>ps_calc_15_bin</th>\n",
              "      <td>input</td>\n",
              "      <td>binary</td>\n",
              "      <td>True</td>\n",
              "      <td>int64</td>\n",
              "    </tr>\n",
              "    <tr>\n",
              "      <th>ps_calc_16_bin</th>\n",
              "      <td>input</td>\n",
              "      <td>binary</td>\n",
              "      <td>True</td>\n",
              "      <td>int64</td>\n",
              "    </tr>\n",
              "    <tr>\n",
              "      <th>ps_calc_17_bin</th>\n",
              "      <td>input</td>\n",
              "      <td>binary</td>\n",
              "      <td>True</td>\n",
              "      <td>int64</td>\n",
              "    </tr>\n",
              "    <tr>\n",
              "      <th>ps_calc_18_bin</th>\n",
              "      <td>input</td>\n",
              "      <td>binary</td>\n",
              "      <td>True</td>\n",
              "      <td>int64</td>\n",
              "    </tr>\n",
              "    <tr>\n",
              "      <th>ps_calc_19_bin</th>\n",
              "      <td>input</td>\n",
              "      <td>binary</td>\n",
              "      <td>True</td>\n",
              "      <td>int64</td>\n",
              "    </tr>\n",
              "    <tr>\n",
              "      <th>ps_calc_20_bin</th>\n",
              "      <td>input</td>\n",
              "      <td>binary</td>\n",
              "      <td>True</td>\n",
              "      <td>int64</td>\n",
              "    </tr>\n",
              "  </tbody>\n",
              "</table>\n",
              "</div>"
            ],
            "text/plain": [
              "                  role     level   keep    dtype\n",
              "varname                                         \n",
              "id                  id   nominal  False    int64\n",
              "target          target    binary   True    int64\n",
              "ps_ind_01        input   ordinal   True    int64\n",
              "ps_ind_02_cat    input   nominal   True    int64\n",
              "ps_ind_03        input   ordinal   True    int64\n",
              "ps_ind_04_cat    input   nominal   True    int64\n",
              "ps_ind_05_cat    input   nominal   True    int64\n",
              "ps_ind_06_bin    input    binary   True    int64\n",
              "ps_ind_07_bin    input    binary   True    int64\n",
              "ps_ind_08_bin    input    binary   True    int64\n",
              "ps_ind_09_bin    input    binary   True    int64\n",
              "ps_ind_10_bin    input    binary   True    int64\n",
              "ps_ind_11_bin    input    binary   True    int64\n",
              "ps_ind_12_bin    input    binary   True    int64\n",
              "ps_ind_13_bin    input    binary   True    int64\n",
              "ps_ind_14        input   ordinal   True    int64\n",
              "ps_ind_15        input   ordinal   True    int64\n",
              "ps_ind_16_bin    input    binary   True    int64\n",
              "ps_ind_17_bin    input    binary   True    int64\n",
              "ps_ind_18_bin    input    binary   True    int64\n",
              "ps_reg_01        input  interval   True  float64\n",
              "ps_reg_02        input  interval   True  float64\n",
              "ps_reg_03        input  interval   True  float64\n",
              "ps_car_01_cat    input   nominal   True    int64\n",
              "ps_car_02_cat    input   nominal   True    int64\n",
              "ps_car_03_cat    input   nominal   True    int64\n",
              "ps_car_04_cat    input   nominal   True    int64\n",
              "ps_car_05_cat    input   nominal   True    int64\n",
              "ps_car_06_cat    input   nominal   True    int64\n",
              "ps_car_07_cat    input   nominal   True    int64\n",
              "ps_car_08_cat    input   nominal   True    int64\n",
              "ps_car_09_cat    input   nominal   True    int64\n",
              "ps_car_10_cat    input   nominal   True    int64\n",
              "ps_car_11_cat    input   nominal   True    int64\n",
              "ps_car_11        input   ordinal   True    int64\n",
              "ps_car_12        input  interval   True  float64\n",
              "ps_car_13        input  interval   True  float64\n",
              "ps_car_14        input  interval   True  float64\n",
              "ps_car_15        input  interval   True  float64\n",
              "ps_calc_01       input  interval   True  float64\n",
              "ps_calc_02       input  interval   True  float64\n",
              "ps_calc_03       input  interval   True  float64\n",
              "ps_calc_04       input   ordinal   True    int64\n",
              "ps_calc_05       input   ordinal   True    int64\n",
              "ps_calc_06       input   ordinal   True    int64\n",
              "ps_calc_07       input   ordinal   True    int64\n",
              "ps_calc_08       input   ordinal   True    int64\n",
              "ps_calc_09       input   ordinal   True    int64\n",
              "ps_calc_10       input   ordinal   True    int64\n",
              "ps_calc_11       input   ordinal   True    int64\n",
              "ps_calc_12       input   ordinal   True    int64\n",
              "ps_calc_13       input   ordinal   True    int64\n",
              "ps_calc_14       input   ordinal   True    int64\n",
              "ps_calc_15_bin   input    binary   True    int64\n",
              "ps_calc_16_bin   input    binary   True    int64\n",
              "ps_calc_17_bin   input    binary   True    int64\n",
              "ps_calc_18_bin   input    binary   True    int64\n",
              "ps_calc_19_bin   input    binary   True    int64\n",
              "ps_calc_20_bin   input    binary   True    int64"
            ]
          },
          "metadata": {},
          "execution_count": 66
        }
      ]
    },
    {
      "cell_type": "code",
      "metadata": {
        "colab": {
          "base_uri": "https://localhost:8080/"
        },
        "id": "rET3ELcvvxKu",
        "outputId": "c0e633d8-93c6-4b13-91f2-5a8b2c7910f9"
      },
      "source": [
        "meta[(meta.level=='nominal')&(meta.keep)].index"
      ],
      "execution_count": 67,
      "outputs": [
        {
          "output_type": "execute_result",
          "data": {
            "text/plain": [
              "Index(['ps_ind_02_cat', 'ps_ind_04_cat', 'ps_ind_05_cat', 'ps_car_01_cat',\n",
              "       'ps_car_02_cat', 'ps_car_03_cat', 'ps_car_04_cat', 'ps_car_05_cat',\n",
              "       'ps_car_06_cat', 'ps_car_07_cat', 'ps_car_08_cat', 'ps_car_09_cat',\n",
              "       'ps_car_10_cat', 'ps_car_11_cat'],\n",
              "      dtype='object', name='varname')"
            ]
          },
          "metadata": {},
          "execution_count": 67
        }
      ]
    },
    {
      "cell_type": "code",
      "metadata": {
        "colab": {
          "base_uri": "https://localhost:8080/",
          "height": 235
        },
        "id": "Re_0vJJUv5_o",
        "outputId": "e8778d90-0c35-43b3-df94-c02ff9df6e56"
      },
      "source": [
        "pd.DataFrame({'count': meta.groupby(['role', 'level'])['role'].size()}).reset_index()"
      ],
      "execution_count": 68,
      "outputs": [
        {
          "output_type": "execute_result",
          "data": {
            "text/html": [
              "<div>\n",
              "<style scoped>\n",
              "    .dataframe tbody tr th:only-of-type {\n",
              "        vertical-align: middle;\n",
              "    }\n",
              "\n",
              "    .dataframe tbody tr th {\n",
              "        vertical-align: top;\n",
              "    }\n",
              "\n",
              "    .dataframe thead th {\n",
              "        text-align: right;\n",
              "    }\n",
              "</style>\n",
              "<table border=\"1\" class=\"dataframe\">\n",
              "  <thead>\n",
              "    <tr style=\"text-align: right;\">\n",
              "      <th></th>\n",
              "      <th>role</th>\n",
              "      <th>level</th>\n",
              "      <th>count</th>\n",
              "    </tr>\n",
              "  </thead>\n",
              "  <tbody>\n",
              "    <tr>\n",
              "      <th>0</th>\n",
              "      <td>id</td>\n",
              "      <td>nominal</td>\n",
              "      <td>1</td>\n",
              "    </tr>\n",
              "    <tr>\n",
              "      <th>1</th>\n",
              "      <td>input</td>\n",
              "      <td>binary</td>\n",
              "      <td>17</td>\n",
              "    </tr>\n",
              "    <tr>\n",
              "      <th>2</th>\n",
              "      <td>input</td>\n",
              "      <td>interval</td>\n",
              "      <td>10</td>\n",
              "    </tr>\n",
              "    <tr>\n",
              "      <th>3</th>\n",
              "      <td>input</td>\n",
              "      <td>nominal</td>\n",
              "      <td>14</td>\n",
              "    </tr>\n",
              "    <tr>\n",
              "      <th>4</th>\n",
              "      <td>input</td>\n",
              "      <td>ordinal</td>\n",
              "      <td>16</td>\n",
              "    </tr>\n",
              "    <tr>\n",
              "      <th>5</th>\n",
              "      <td>target</td>\n",
              "      <td>binary</td>\n",
              "      <td>1</td>\n",
              "    </tr>\n",
              "  </tbody>\n",
              "</table>\n",
              "</div>"
            ],
            "text/plain": [
              "     role     level  count\n",
              "0      id   nominal      1\n",
              "1   input    binary     17\n",
              "2   input  interval     10\n",
              "3   input   nominal     14\n",
              "4   input   ordinal     16\n",
              "5  target    binary      1"
            ]
          },
          "metadata": {},
          "execution_count": 68
        }
      ]
    },
    {
      "cell_type": "markdown",
      "metadata": {
        "id": "ziBlMWAEwFYQ"
      },
      "source": [
        "# **Descriptive Statistics**"
      ]
    },
    {
      "cell_type": "markdown",
      "metadata": {
        "id": "F2ttfzajwI_a"
      },
      "source": [
        "## **Interval variables**"
      ]
    },
    {
      "cell_type": "code",
      "metadata": {
        "colab": {
          "base_uri": "https://localhost:8080/",
          "height": 297
        },
        "id": "W6ycICdqwKU0",
        "outputId": "96fd38f7-43d2-457a-b8e0-de7e0aa7e9bb"
      },
      "source": [
        "v = meta[(meta.level=='interval')&(meta.keep)].index\n",
        "train[v].describe()"
      ],
      "execution_count": 69,
      "outputs": [
        {
          "output_type": "execute_result",
          "data": {
            "text/html": [
              "<div>\n",
              "<style scoped>\n",
              "    .dataframe tbody tr th:only-of-type {\n",
              "        vertical-align: middle;\n",
              "    }\n",
              "\n",
              "    .dataframe tbody tr th {\n",
              "        vertical-align: top;\n",
              "    }\n",
              "\n",
              "    .dataframe thead th {\n",
              "        text-align: right;\n",
              "    }\n",
              "</style>\n",
              "<table border=\"1\" class=\"dataframe\">\n",
              "  <thead>\n",
              "    <tr style=\"text-align: right;\">\n",
              "      <th></th>\n",
              "      <th>ps_reg_01</th>\n",
              "      <th>ps_reg_02</th>\n",
              "      <th>ps_reg_03</th>\n",
              "      <th>ps_car_12</th>\n",
              "      <th>ps_car_13</th>\n",
              "      <th>ps_car_14</th>\n",
              "      <th>ps_car_15</th>\n",
              "      <th>ps_calc_01</th>\n",
              "      <th>ps_calc_02</th>\n",
              "      <th>ps_calc_03</th>\n",
              "    </tr>\n",
              "  </thead>\n",
              "  <tbody>\n",
              "    <tr>\n",
              "      <th>count</th>\n",
              "      <td>595212.000000</td>\n",
              "      <td>595212.000000</td>\n",
              "      <td>595212.000000</td>\n",
              "      <td>595212.000000</td>\n",
              "      <td>595212.000000</td>\n",
              "      <td>595212.000000</td>\n",
              "      <td>595212.000000</td>\n",
              "      <td>595212.000000</td>\n",
              "      <td>595212.000000</td>\n",
              "      <td>595212.000000</td>\n",
              "    </tr>\n",
              "    <tr>\n",
              "      <th>mean</th>\n",
              "      <td>0.610991</td>\n",
              "      <td>0.439184</td>\n",
              "      <td>0.551102</td>\n",
              "      <td>0.379945</td>\n",
              "      <td>0.813265</td>\n",
              "      <td>0.276256</td>\n",
              "      <td>3.065899</td>\n",
              "      <td>0.449756</td>\n",
              "      <td>0.449589</td>\n",
              "      <td>0.449849</td>\n",
              "    </tr>\n",
              "    <tr>\n",
              "      <th>std</th>\n",
              "      <td>0.287643</td>\n",
              "      <td>0.404264</td>\n",
              "      <td>0.793506</td>\n",
              "      <td>0.058327</td>\n",
              "      <td>0.224588</td>\n",
              "      <td>0.357154</td>\n",
              "      <td>0.731366</td>\n",
              "      <td>0.287198</td>\n",
              "      <td>0.286893</td>\n",
              "      <td>0.287153</td>\n",
              "    </tr>\n",
              "    <tr>\n",
              "      <th>min</th>\n",
              "      <td>0.000000</td>\n",
              "      <td>0.000000</td>\n",
              "      <td>-1.000000</td>\n",
              "      <td>-1.000000</td>\n",
              "      <td>0.250619</td>\n",
              "      <td>-1.000000</td>\n",
              "      <td>0.000000</td>\n",
              "      <td>0.000000</td>\n",
              "      <td>0.000000</td>\n",
              "      <td>0.000000</td>\n",
              "    </tr>\n",
              "    <tr>\n",
              "      <th>25%</th>\n",
              "      <td>0.400000</td>\n",
              "      <td>0.200000</td>\n",
              "      <td>0.525000</td>\n",
              "      <td>0.316228</td>\n",
              "      <td>0.670867</td>\n",
              "      <td>0.333167</td>\n",
              "      <td>2.828427</td>\n",
              "      <td>0.200000</td>\n",
              "      <td>0.200000</td>\n",
              "      <td>0.200000</td>\n",
              "    </tr>\n",
              "    <tr>\n",
              "      <th>50%</th>\n",
              "      <td>0.700000</td>\n",
              "      <td>0.300000</td>\n",
              "      <td>0.720677</td>\n",
              "      <td>0.374166</td>\n",
              "      <td>0.765811</td>\n",
              "      <td>0.368782</td>\n",
              "      <td>3.316625</td>\n",
              "      <td>0.500000</td>\n",
              "      <td>0.400000</td>\n",
              "      <td>0.500000</td>\n",
              "    </tr>\n",
              "    <tr>\n",
              "      <th>75%</th>\n",
              "      <td>0.900000</td>\n",
              "      <td>0.600000</td>\n",
              "      <td>1.000000</td>\n",
              "      <td>0.400000</td>\n",
              "      <td>0.906190</td>\n",
              "      <td>0.396485</td>\n",
              "      <td>3.605551</td>\n",
              "      <td>0.700000</td>\n",
              "      <td>0.700000</td>\n",
              "      <td>0.700000</td>\n",
              "    </tr>\n",
              "    <tr>\n",
              "      <th>max</th>\n",
              "      <td>0.900000</td>\n",
              "      <td>1.800000</td>\n",
              "      <td>4.037945</td>\n",
              "      <td>1.264911</td>\n",
              "      <td>3.720626</td>\n",
              "      <td>0.636396</td>\n",
              "      <td>3.741657</td>\n",
              "      <td>0.900000</td>\n",
              "      <td>0.900000</td>\n",
              "      <td>0.900000</td>\n",
              "    </tr>\n",
              "  </tbody>\n",
              "</table>\n",
              "</div>"
            ],
            "text/plain": [
              "           ps_reg_01      ps_reg_02      ps_reg_03      ps_car_12  \\\n",
              "count  595212.000000  595212.000000  595212.000000  595212.000000   \n",
              "mean        0.610991       0.439184       0.551102       0.379945   \n",
              "std         0.287643       0.404264       0.793506       0.058327   \n",
              "min         0.000000       0.000000      -1.000000      -1.000000   \n",
              "25%         0.400000       0.200000       0.525000       0.316228   \n",
              "50%         0.700000       0.300000       0.720677       0.374166   \n",
              "75%         0.900000       0.600000       1.000000       0.400000   \n",
              "max         0.900000       1.800000       4.037945       1.264911   \n",
              "\n",
              "           ps_car_13      ps_car_14      ps_car_15     ps_calc_01  \\\n",
              "count  595212.000000  595212.000000  595212.000000  595212.000000   \n",
              "mean        0.813265       0.276256       3.065899       0.449756   \n",
              "std         0.224588       0.357154       0.731366       0.287198   \n",
              "min         0.250619      -1.000000       0.000000       0.000000   \n",
              "25%         0.670867       0.333167       2.828427       0.200000   \n",
              "50%         0.765811       0.368782       3.316625       0.500000   \n",
              "75%         0.906190       0.396485       3.605551       0.700000   \n",
              "max         3.720626       0.636396       3.741657       0.900000   \n",
              "\n",
              "          ps_calc_02     ps_calc_03  \n",
              "count  595212.000000  595212.000000  \n",
              "mean        0.449589       0.449849  \n",
              "std         0.286893       0.287153  \n",
              "min         0.000000       0.000000  \n",
              "25%         0.200000       0.200000  \n",
              "50%         0.400000       0.500000  \n",
              "75%         0.700000       0.700000  \n",
              "max         0.900000       0.900000  "
            ]
          },
          "metadata": {},
          "execution_count": 69
        }
      ]
    },
    {
      "cell_type": "markdown",
      "metadata": {
        "id": "ch7l6LfUwSUK"
      },
      "source": [
        "### **reg variables**\n",
        "\n",
        "* **only ps_reg_03 has missing values**\n",
        "* **the range(min to max) differs between the variables. We could apply scaling(e.g. StandardScaler), but it depends on the classifier we will want to use.**\n"
      ]
    },
    {
      "cell_type": "markdown",
      "metadata": {
        "id": "mtv2NoTDwomq"
      },
      "source": [
        "### **car variables**\n",
        "* **ps_car_12 and ps_car_15 have missing values**\n",
        "* **again, the range differs and we could apply scaling.**"
      ]
    },
    {
      "cell_type": "markdown",
      "metadata": {
        "id": "i3I8ZwrZxLsZ"
      },
      "source": [
        "### **calc variables**\n",
        "* **no missign values**\n",
        "* **this seems to be some kind of ratio as the maximum is 0.9**\n",
        "* **all three __calc_ variables have very similar distributions**"
      ]
    },
    {
      "cell_type": "markdown",
      "metadata": {
        "id": "xWzMMGA1xb8q"
      },
      "source": [
        "## **Ordinal variables**"
      ]
    },
    {
      "cell_type": "code",
      "metadata": {
        "colab": {
          "base_uri": "https://localhost:8080/",
          "height": 317
        },
        "id": "aaI9QmU4xelr",
        "outputId": "023c8d17-fbef-459d-dfa1-4632eefe1ef3"
      },
      "source": [
        "v = meta[(meta.level=='ordinal')&(meta.keep)].index\n",
        "train[v].describe()"
      ],
      "execution_count": 70,
      "outputs": [
        {
          "output_type": "execute_result",
          "data": {
            "text/html": [
              "<div>\n",
              "<style scoped>\n",
              "    .dataframe tbody tr th:only-of-type {\n",
              "        vertical-align: middle;\n",
              "    }\n",
              "\n",
              "    .dataframe tbody tr th {\n",
              "        vertical-align: top;\n",
              "    }\n",
              "\n",
              "    .dataframe thead th {\n",
              "        text-align: right;\n",
              "    }\n",
              "</style>\n",
              "<table border=\"1\" class=\"dataframe\">\n",
              "  <thead>\n",
              "    <tr style=\"text-align: right;\">\n",
              "      <th></th>\n",
              "      <th>ps_ind_01</th>\n",
              "      <th>ps_ind_03</th>\n",
              "      <th>ps_ind_14</th>\n",
              "      <th>ps_ind_15</th>\n",
              "      <th>ps_car_11</th>\n",
              "      <th>ps_calc_04</th>\n",
              "      <th>ps_calc_05</th>\n",
              "      <th>ps_calc_06</th>\n",
              "      <th>ps_calc_07</th>\n",
              "      <th>ps_calc_08</th>\n",
              "      <th>ps_calc_09</th>\n",
              "      <th>ps_calc_10</th>\n",
              "      <th>ps_calc_11</th>\n",
              "      <th>ps_calc_12</th>\n",
              "      <th>ps_calc_13</th>\n",
              "      <th>ps_calc_14</th>\n",
              "    </tr>\n",
              "  </thead>\n",
              "  <tbody>\n",
              "    <tr>\n",
              "      <th>count</th>\n",
              "      <td>595212.000000</td>\n",
              "      <td>595212.000000</td>\n",
              "      <td>595212.000000</td>\n",
              "      <td>595212.000000</td>\n",
              "      <td>595212.000000</td>\n",
              "      <td>595212.000000</td>\n",
              "      <td>595212.000000</td>\n",
              "      <td>595212.000000</td>\n",
              "      <td>595212.000000</td>\n",
              "      <td>595212.000000</td>\n",
              "      <td>595212.000000</td>\n",
              "      <td>595212.000000</td>\n",
              "      <td>595212.000000</td>\n",
              "      <td>595212.000000</td>\n",
              "      <td>595212.000000</td>\n",
              "      <td>595212.000000</td>\n",
              "    </tr>\n",
              "    <tr>\n",
              "      <th>mean</th>\n",
              "      <td>1.900378</td>\n",
              "      <td>4.423318</td>\n",
              "      <td>0.012451</td>\n",
              "      <td>7.299922</td>\n",
              "      <td>2.346072</td>\n",
              "      <td>2.372081</td>\n",
              "      <td>1.885886</td>\n",
              "      <td>7.689445</td>\n",
              "      <td>3.005823</td>\n",
              "      <td>9.225904</td>\n",
              "      <td>2.339034</td>\n",
              "      <td>8.433590</td>\n",
              "      <td>5.441382</td>\n",
              "      <td>1.441918</td>\n",
              "      <td>2.872288</td>\n",
              "      <td>7.539026</td>\n",
              "    </tr>\n",
              "    <tr>\n",
              "      <th>std</th>\n",
              "      <td>1.983789</td>\n",
              "      <td>2.699902</td>\n",
              "      <td>0.127545</td>\n",
              "      <td>3.546042</td>\n",
              "      <td>0.832548</td>\n",
              "      <td>1.117219</td>\n",
              "      <td>1.134927</td>\n",
              "      <td>1.334312</td>\n",
              "      <td>1.414564</td>\n",
              "      <td>1.459672</td>\n",
              "      <td>1.246949</td>\n",
              "      <td>2.904597</td>\n",
              "      <td>2.332871</td>\n",
              "      <td>1.202963</td>\n",
              "      <td>1.694887</td>\n",
              "      <td>2.746652</td>\n",
              "    </tr>\n",
              "    <tr>\n",
              "      <th>min</th>\n",
              "      <td>0.000000</td>\n",
              "      <td>0.000000</td>\n",
              "      <td>0.000000</td>\n",
              "      <td>0.000000</td>\n",
              "      <td>-1.000000</td>\n",
              "      <td>0.000000</td>\n",
              "      <td>0.000000</td>\n",
              "      <td>0.000000</td>\n",
              "      <td>0.000000</td>\n",
              "      <td>2.000000</td>\n",
              "      <td>0.000000</td>\n",
              "      <td>0.000000</td>\n",
              "      <td>0.000000</td>\n",
              "      <td>0.000000</td>\n",
              "      <td>0.000000</td>\n",
              "      <td>0.000000</td>\n",
              "    </tr>\n",
              "    <tr>\n",
              "      <th>25%</th>\n",
              "      <td>0.000000</td>\n",
              "      <td>2.000000</td>\n",
              "      <td>0.000000</td>\n",
              "      <td>5.000000</td>\n",
              "      <td>2.000000</td>\n",
              "      <td>2.000000</td>\n",
              "      <td>1.000000</td>\n",
              "      <td>7.000000</td>\n",
              "      <td>2.000000</td>\n",
              "      <td>8.000000</td>\n",
              "      <td>1.000000</td>\n",
              "      <td>6.000000</td>\n",
              "      <td>4.000000</td>\n",
              "      <td>1.000000</td>\n",
              "      <td>2.000000</td>\n",
              "      <td>6.000000</td>\n",
              "    </tr>\n",
              "    <tr>\n",
              "      <th>50%</th>\n",
              "      <td>1.000000</td>\n",
              "      <td>4.000000</td>\n",
              "      <td>0.000000</td>\n",
              "      <td>7.000000</td>\n",
              "      <td>3.000000</td>\n",
              "      <td>2.000000</td>\n",
              "      <td>2.000000</td>\n",
              "      <td>8.000000</td>\n",
              "      <td>3.000000</td>\n",
              "      <td>9.000000</td>\n",
              "      <td>2.000000</td>\n",
              "      <td>8.000000</td>\n",
              "      <td>5.000000</td>\n",
              "      <td>1.000000</td>\n",
              "      <td>3.000000</td>\n",
              "      <td>7.000000</td>\n",
              "    </tr>\n",
              "    <tr>\n",
              "      <th>75%</th>\n",
              "      <td>3.000000</td>\n",
              "      <td>6.000000</td>\n",
              "      <td>0.000000</td>\n",
              "      <td>10.000000</td>\n",
              "      <td>3.000000</td>\n",
              "      <td>3.000000</td>\n",
              "      <td>3.000000</td>\n",
              "      <td>9.000000</td>\n",
              "      <td>4.000000</td>\n",
              "      <td>10.000000</td>\n",
              "      <td>3.000000</td>\n",
              "      <td>10.000000</td>\n",
              "      <td>7.000000</td>\n",
              "      <td>2.000000</td>\n",
              "      <td>4.000000</td>\n",
              "      <td>9.000000</td>\n",
              "    </tr>\n",
              "    <tr>\n",
              "      <th>max</th>\n",
              "      <td>7.000000</td>\n",
              "      <td>11.000000</td>\n",
              "      <td>4.000000</td>\n",
              "      <td>13.000000</td>\n",
              "      <td>3.000000</td>\n",
              "      <td>5.000000</td>\n",
              "      <td>6.000000</td>\n",
              "      <td>10.000000</td>\n",
              "      <td>9.000000</td>\n",
              "      <td>12.000000</td>\n",
              "      <td>7.000000</td>\n",
              "      <td>25.000000</td>\n",
              "      <td>19.000000</td>\n",
              "      <td>10.000000</td>\n",
              "      <td>13.000000</td>\n",
              "      <td>23.000000</td>\n",
              "    </tr>\n",
              "  </tbody>\n",
              "</table>\n",
              "</div>"
            ],
            "text/plain": [
              "           ps_ind_01      ps_ind_03      ps_ind_14      ps_ind_15  \\\n",
              "count  595212.000000  595212.000000  595212.000000  595212.000000   \n",
              "mean        1.900378       4.423318       0.012451       7.299922   \n",
              "std         1.983789       2.699902       0.127545       3.546042   \n",
              "min         0.000000       0.000000       0.000000       0.000000   \n",
              "25%         0.000000       2.000000       0.000000       5.000000   \n",
              "50%         1.000000       4.000000       0.000000       7.000000   \n",
              "75%         3.000000       6.000000       0.000000      10.000000   \n",
              "max         7.000000      11.000000       4.000000      13.000000   \n",
              "\n",
              "           ps_car_11     ps_calc_04     ps_calc_05     ps_calc_06  \\\n",
              "count  595212.000000  595212.000000  595212.000000  595212.000000   \n",
              "mean        2.346072       2.372081       1.885886       7.689445   \n",
              "std         0.832548       1.117219       1.134927       1.334312   \n",
              "min        -1.000000       0.000000       0.000000       0.000000   \n",
              "25%         2.000000       2.000000       1.000000       7.000000   \n",
              "50%         3.000000       2.000000       2.000000       8.000000   \n",
              "75%         3.000000       3.000000       3.000000       9.000000   \n",
              "max         3.000000       5.000000       6.000000      10.000000   \n",
              "\n",
              "          ps_calc_07     ps_calc_08     ps_calc_09     ps_calc_10  \\\n",
              "count  595212.000000  595212.000000  595212.000000  595212.000000   \n",
              "mean        3.005823       9.225904       2.339034       8.433590   \n",
              "std         1.414564       1.459672       1.246949       2.904597   \n",
              "min         0.000000       2.000000       0.000000       0.000000   \n",
              "25%         2.000000       8.000000       1.000000       6.000000   \n",
              "50%         3.000000       9.000000       2.000000       8.000000   \n",
              "75%         4.000000      10.000000       3.000000      10.000000   \n",
              "max         9.000000      12.000000       7.000000      25.000000   \n",
              "\n",
              "          ps_calc_11     ps_calc_12     ps_calc_13     ps_calc_14  \n",
              "count  595212.000000  595212.000000  595212.000000  595212.000000  \n",
              "mean        5.441382       1.441918       2.872288       7.539026  \n",
              "std         2.332871       1.202963       1.694887       2.746652  \n",
              "min         0.000000       0.000000       0.000000       0.000000  \n",
              "25%         4.000000       1.000000       2.000000       6.000000  \n",
              "50%         5.000000       1.000000       3.000000       7.000000  \n",
              "75%         7.000000       2.000000       4.000000       9.000000  \n",
              "max        19.000000      10.000000      13.000000      23.000000  "
            ]
          },
          "metadata": {},
          "execution_count": 70
        }
      ]
    },
    {
      "cell_type": "markdown",
      "metadata": {
        "id": "JmfzXn1Oxmc6"
      },
      "source": [
        "* **Only one missing variables: ps_car_11**\n",
        "* **We could apply scaling to deal with the different ranges**"
      ]
    },
    {
      "cell_type": "markdown",
      "metadata": {
        "id": "AuMkXYdaxuQg"
      },
      "source": [
        "## **Binary variables**"
      ]
    },
    {
      "cell_type": "code",
      "metadata": {
        "colab": {
          "base_uri": "https://localhost:8080/",
          "height": 317
        },
        "id": "pOh422F1xv17",
        "outputId": "8d262eb3-fce8-4c09-98ac-8cdffba7f764"
      },
      "source": [
        "v = meta[(meta.level=='binary')&(meta.keep)].index\n",
        "train[v].describe()"
      ],
      "execution_count": 71,
      "outputs": [
        {
          "output_type": "execute_result",
          "data": {
            "text/html": [
              "<div>\n",
              "<style scoped>\n",
              "    .dataframe tbody tr th:only-of-type {\n",
              "        vertical-align: middle;\n",
              "    }\n",
              "\n",
              "    .dataframe tbody tr th {\n",
              "        vertical-align: top;\n",
              "    }\n",
              "\n",
              "    .dataframe thead th {\n",
              "        text-align: right;\n",
              "    }\n",
              "</style>\n",
              "<table border=\"1\" class=\"dataframe\">\n",
              "  <thead>\n",
              "    <tr style=\"text-align: right;\">\n",
              "      <th></th>\n",
              "      <th>target</th>\n",
              "      <th>ps_ind_06_bin</th>\n",
              "      <th>ps_ind_07_bin</th>\n",
              "      <th>ps_ind_08_bin</th>\n",
              "      <th>ps_ind_09_bin</th>\n",
              "      <th>ps_ind_10_bin</th>\n",
              "      <th>ps_ind_11_bin</th>\n",
              "      <th>ps_ind_12_bin</th>\n",
              "      <th>ps_ind_13_bin</th>\n",
              "      <th>ps_ind_16_bin</th>\n",
              "      <th>ps_ind_17_bin</th>\n",
              "      <th>ps_ind_18_bin</th>\n",
              "      <th>ps_calc_15_bin</th>\n",
              "      <th>ps_calc_16_bin</th>\n",
              "      <th>ps_calc_17_bin</th>\n",
              "      <th>ps_calc_18_bin</th>\n",
              "      <th>ps_calc_19_bin</th>\n",
              "      <th>ps_calc_20_bin</th>\n",
              "    </tr>\n",
              "  </thead>\n",
              "  <tbody>\n",
              "    <tr>\n",
              "      <th>count</th>\n",
              "      <td>595212.000000</td>\n",
              "      <td>595212.000000</td>\n",
              "      <td>595212.000000</td>\n",
              "      <td>595212.000000</td>\n",
              "      <td>595212.000000</td>\n",
              "      <td>595212.000000</td>\n",
              "      <td>595212.000000</td>\n",
              "      <td>595212.000000</td>\n",
              "      <td>595212.000000</td>\n",
              "      <td>595212.000000</td>\n",
              "      <td>595212.000000</td>\n",
              "      <td>595212.000000</td>\n",
              "      <td>595212.000000</td>\n",
              "      <td>595212.000000</td>\n",
              "      <td>595212.000000</td>\n",
              "      <td>595212.000000</td>\n",
              "      <td>595212.000000</td>\n",
              "      <td>595212.000000</td>\n",
              "    </tr>\n",
              "    <tr>\n",
              "      <th>mean</th>\n",
              "      <td>0.036448</td>\n",
              "      <td>0.393742</td>\n",
              "      <td>0.257033</td>\n",
              "      <td>0.163921</td>\n",
              "      <td>0.185304</td>\n",
              "      <td>0.000373</td>\n",
              "      <td>0.001692</td>\n",
              "      <td>0.009439</td>\n",
              "      <td>0.000948</td>\n",
              "      <td>0.660823</td>\n",
              "      <td>0.121081</td>\n",
              "      <td>0.153446</td>\n",
              "      <td>0.122427</td>\n",
              "      <td>0.627840</td>\n",
              "      <td>0.554182</td>\n",
              "      <td>0.287182</td>\n",
              "      <td>0.349024</td>\n",
              "      <td>0.153318</td>\n",
              "    </tr>\n",
              "    <tr>\n",
              "      <th>std</th>\n",
              "      <td>0.187401</td>\n",
              "      <td>0.488579</td>\n",
              "      <td>0.436998</td>\n",
              "      <td>0.370205</td>\n",
              "      <td>0.388544</td>\n",
              "      <td>0.019309</td>\n",
              "      <td>0.041097</td>\n",
              "      <td>0.096693</td>\n",
              "      <td>0.030768</td>\n",
              "      <td>0.473430</td>\n",
              "      <td>0.326222</td>\n",
              "      <td>0.360417</td>\n",
              "      <td>0.327779</td>\n",
              "      <td>0.483381</td>\n",
              "      <td>0.497056</td>\n",
              "      <td>0.452447</td>\n",
              "      <td>0.476662</td>\n",
              "      <td>0.360295</td>\n",
              "    </tr>\n",
              "    <tr>\n",
              "      <th>min</th>\n",
              "      <td>0.000000</td>\n",
              "      <td>0.000000</td>\n",
              "      <td>0.000000</td>\n",
              "      <td>0.000000</td>\n",
              "      <td>0.000000</td>\n",
              "      <td>0.000000</td>\n",
              "      <td>0.000000</td>\n",
              "      <td>0.000000</td>\n",
              "      <td>0.000000</td>\n",
              "      <td>0.000000</td>\n",
              "      <td>0.000000</td>\n",
              "      <td>0.000000</td>\n",
              "      <td>0.000000</td>\n",
              "      <td>0.000000</td>\n",
              "      <td>0.000000</td>\n",
              "      <td>0.000000</td>\n",
              "      <td>0.000000</td>\n",
              "      <td>0.000000</td>\n",
              "    </tr>\n",
              "    <tr>\n",
              "      <th>25%</th>\n",
              "      <td>0.000000</td>\n",
              "      <td>0.000000</td>\n",
              "      <td>0.000000</td>\n",
              "      <td>0.000000</td>\n",
              "      <td>0.000000</td>\n",
              "      <td>0.000000</td>\n",
              "      <td>0.000000</td>\n",
              "      <td>0.000000</td>\n",
              "      <td>0.000000</td>\n",
              "      <td>0.000000</td>\n",
              "      <td>0.000000</td>\n",
              "      <td>0.000000</td>\n",
              "      <td>0.000000</td>\n",
              "      <td>0.000000</td>\n",
              "      <td>0.000000</td>\n",
              "      <td>0.000000</td>\n",
              "      <td>0.000000</td>\n",
              "      <td>0.000000</td>\n",
              "    </tr>\n",
              "    <tr>\n",
              "      <th>50%</th>\n",
              "      <td>0.000000</td>\n",
              "      <td>0.000000</td>\n",
              "      <td>0.000000</td>\n",
              "      <td>0.000000</td>\n",
              "      <td>0.000000</td>\n",
              "      <td>0.000000</td>\n",
              "      <td>0.000000</td>\n",
              "      <td>0.000000</td>\n",
              "      <td>0.000000</td>\n",
              "      <td>1.000000</td>\n",
              "      <td>0.000000</td>\n",
              "      <td>0.000000</td>\n",
              "      <td>0.000000</td>\n",
              "      <td>1.000000</td>\n",
              "      <td>1.000000</td>\n",
              "      <td>0.000000</td>\n",
              "      <td>0.000000</td>\n",
              "      <td>0.000000</td>\n",
              "    </tr>\n",
              "    <tr>\n",
              "      <th>75%</th>\n",
              "      <td>0.000000</td>\n",
              "      <td>1.000000</td>\n",
              "      <td>1.000000</td>\n",
              "      <td>0.000000</td>\n",
              "      <td>0.000000</td>\n",
              "      <td>0.000000</td>\n",
              "      <td>0.000000</td>\n",
              "      <td>0.000000</td>\n",
              "      <td>0.000000</td>\n",
              "      <td>1.000000</td>\n",
              "      <td>0.000000</td>\n",
              "      <td>0.000000</td>\n",
              "      <td>0.000000</td>\n",
              "      <td>1.000000</td>\n",
              "      <td>1.000000</td>\n",
              "      <td>1.000000</td>\n",
              "      <td>1.000000</td>\n",
              "      <td>0.000000</td>\n",
              "    </tr>\n",
              "    <tr>\n",
              "      <th>max</th>\n",
              "      <td>1.000000</td>\n",
              "      <td>1.000000</td>\n",
              "      <td>1.000000</td>\n",
              "      <td>1.000000</td>\n",
              "      <td>1.000000</td>\n",
              "      <td>1.000000</td>\n",
              "      <td>1.000000</td>\n",
              "      <td>1.000000</td>\n",
              "      <td>1.000000</td>\n",
              "      <td>1.000000</td>\n",
              "      <td>1.000000</td>\n",
              "      <td>1.000000</td>\n",
              "      <td>1.000000</td>\n",
              "      <td>1.000000</td>\n",
              "      <td>1.000000</td>\n",
              "      <td>1.000000</td>\n",
              "      <td>1.000000</td>\n",
              "      <td>1.000000</td>\n",
              "    </tr>\n",
              "  </tbody>\n",
              "</table>\n",
              "</div>"
            ],
            "text/plain": [
              "              target  ps_ind_06_bin  ps_ind_07_bin  ps_ind_08_bin  \\\n",
              "count  595212.000000  595212.000000  595212.000000  595212.000000   \n",
              "mean        0.036448       0.393742       0.257033       0.163921   \n",
              "std         0.187401       0.488579       0.436998       0.370205   \n",
              "min         0.000000       0.000000       0.000000       0.000000   \n",
              "25%         0.000000       0.000000       0.000000       0.000000   \n",
              "50%         0.000000       0.000000       0.000000       0.000000   \n",
              "75%         0.000000       1.000000       1.000000       0.000000   \n",
              "max         1.000000       1.000000       1.000000       1.000000   \n",
              "\n",
              "       ps_ind_09_bin  ps_ind_10_bin  ps_ind_11_bin  ps_ind_12_bin  \\\n",
              "count  595212.000000  595212.000000  595212.000000  595212.000000   \n",
              "mean        0.185304       0.000373       0.001692       0.009439   \n",
              "std         0.388544       0.019309       0.041097       0.096693   \n",
              "min         0.000000       0.000000       0.000000       0.000000   \n",
              "25%         0.000000       0.000000       0.000000       0.000000   \n",
              "50%         0.000000       0.000000       0.000000       0.000000   \n",
              "75%         0.000000       0.000000       0.000000       0.000000   \n",
              "max         1.000000       1.000000       1.000000       1.000000   \n",
              "\n",
              "       ps_ind_13_bin  ps_ind_16_bin  ps_ind_17_bin  ps_ind_18_bin  \\\n",
              "count  595212.000000  595212.000000  595212.000000  595212.000000   \n",
              "mean        0.000948       0.660823       0.121081       0.153446   \n",
              "std         0.030768       0.473430       0.326222       0.360417   \n",
              "min         0.000000       0.000000       0.000000       0.000000   \n",
              "25%         0.000000       0.000000       0.000000       0.000000   \n",
              "50%         0.000000       1.000000       0.000000       0.000000   \n",
              "75%         0.000000       1.000000       0.000000       0.000000   \n",
              "max         1.000000       1.000000       1.000000       1.000000   \n",
              "\n",
              "       ps_calc_15_bin  ps_calc_16_bin  ps_calc_17_bin  ps_calc_18_bin  \\\n",
              "count   595212.000000   595212.000000   595212.000000   595212.000000   \n",
              "mean         0.122427        0.627840        0.554182        0.287182   \n",
              "std          0.327779        0.483381        0.497056        0.452447   \n",
              "min          0.000000        0.000000        0.000000        0.000000   \n",
              "25%          0.000000        0.000000        0.000000        0.000000   \n",
              "50%          0.000000        1.000000        1.000000        0.000000   \n",
              "75%          0.000000        1.000000        1.000000        1.000000   \n",
              "max          1.000000        1.000000        1.000000        1.000000   \n",
              "\n",
              "       ps_calc_19_bin  ps_calc_20_bin  \n",
              "count   595212.000000   595212.000000  \n",
              "mean         0.349024        0.153318  \n",
              "std          0.476662        0.360295  \n",
              "min          0.000000        0.000000  \n",
              "25%          0.000000        0.000000  \n",
              "50%          0.000000        0.000000  \n",
              "75%          1.000000        0.000000  \n",
              "max          1.000000        1.000000  "
            ]
          },
          "metadata": {},
          "execution_count": 71
        }
      ]
    },
    {
      "cell_type": "markdown",
      "metadata": {
        "id": "16eM4ec7x2m2"
      },
      "source": [
        "* **A priori in the train data is 3.645%, which is <U>strongly imbalanced</U>.**\n",
        "* **From the means we can conclude that for most variables the value is zero in most cases.**"
      ]
    },
    {
      "cell_type": "markdown",
      "metadata": {
        "id": "DS4qlhLHyMxt"
      },
      "source": [
        "# **Handling imbalanced classes**"
      ]
    },
    {
      "cell_type": "markdown",
      "metadata": {
        "id": "SWriHSUNyPdd"
      },
      "source": [
        "* **oversampling records with target=1**\n",
        "* **undersampling records with target=0**"
      ]
    },
    {
      "cell_type": "code",
      "metadata": {
        "colab": {
          "base_uri": "https://localhost:8080/"
        },
        "id": "vOSU7ss0yV6s",
        "outputId": "3bab1d74-b29d-47d0-8821-b69cc58998f2"
      },
      "source": [
        "desired_apriori = 0.1\n",
        "\n",
        "# Get the indices per target value\n",
        "idx_0 = train[train.target==0].index\n",
        "idx_1 = train[train.target==1].index\n",
        "\n",
        "# Get original number of records per target value\n",
        "nb_0 = len(train.loc[idx_0])\n",
        "nb_1 = len(train.loc[idx_1])\n",
        "\n",
        "# Calculate the undersampling rate and resulting number of records with target=0\n",
        "undersampling_rate = ((1-desired_apriori)*nb_1)/(nb_0*desired_apriori)\n",
        "undersampled_nb_0 = int(undersampling_rate*nb_0)\n",
        "print(f'Rate to undersample records with target=0: {undersampling_rate}')\n",
        "print(f'Number of records with target=0 after undersampling: {undersampled_nb_0}')\n",
        "\n",
        "# Randomly select records with target=0 to get at the desired a priori\n",
        "undersampled_idx = shuffle(idx_0, random_state=37, n_samples=undersampled_nb_0)\n",
        "\n",
        "# construct list with remaining indices\n",
        "idx_list = list(undersampled_idx) + list(idx_1)\n",
        "\n",
        "# Return undersample data frame\n",
        "train = train.loc[idx_list].reset_index(drop=True)"
      ],
      "execution_count": 72,
      "outputs": [
        {
          "output_type": "stream",
          "name": "stdout",
          "text": [
            "Rate to undersample records with target=0: 0.34043569687437886\n",
            "Number of records with target=0 after undersampling: 195246\n"
          ]
        }
      ]
    },
    {
      "cell_type": "markdown",
      "metadata": {
        "id": "Gb6TCaX5z0U8"
      },
      "source": [
        "# **Data Quality Checks**"
      ]
    },
    {
      "cell_type": "markdown",
      "metadata": {
        "id": "zTf3RKWKz2_x"
      },
      "source": [
        "## **Checking missing values**\n",
        "**Missing are represented as -1**"
      ]
    },
    {
      "cell_type": "code",
      "metadata": {
        "colab": {
          "base_uri": "https://localhost:8080/"
        },
        "id": "DfYnTVV-z6Pd",
        "outputId": "26b0e0ed-aa9b-4e5b-a0bf-cae1d1ecc7b1"
      },
      "source": [
        "vars_with_missing = []\n",
        "\n",
        "for f in train.columns:\n",
        "    missings = train[train[f]==-1][f].count()\n",
        "    if missings > 0:\n",
        "        vars_with_missing.append(f)\n",
        "        missings_perc = missings / train.shape[0]\n",
        "\n",
        "        print('Variable ({}) has ({}) records ({:.2%}) with missing values'.format(f, missings, missings_perc))\n",
        "\n",
        "print(f'In total, there are {len(vars_with_missing)} variables with missing values')"
      ],
      "execution_count": 73,
      "outputs": [
        {
          "output_type": "stream",
          "name": "stdout",
          "text": [
            "Variable (ps_ind_02_cat) has (103) records (0.05%) with missing values\n",
            "Variable (ps_ind_04_cat) has (51) records (0.02%) with missing values\n",
            "Variable (ps_ind_05_cat) has (2256) records (1.04%) with missing values\n",
            "Variable (ps_reg_03) has (38580) records (17.78%) with missing values\n",
            "Variable (ps_car_01_cat) has (62) records (0.03%) with missing values\n",
            "Variable (ps_car_02_cat) has (2) records (0.00%) with missing values\n",
            "Variable (ps_car_03_cat) has (148367) records (68.39%) with missing values\n",
            "Variable (ps_car_05_cat) has (96026) records (44.26%) with missing values\n",
            "Variable (ps_car_07_cat) has (4431) records (2.04%) with missing values\n",
            "Variable (ps_car_09_cat) has (230) records (0.11%) with missing values\n",
            "Variable (ps_car_11) has (1) records (0.00%) with missing values\n",
            "Variable (ps_car_14) has (15726) records (7.25%) with missing values\n",
            "In total, there are 12 variables with missing values\n"
          ]
        }
      ]
    },
    {
      "cell_type": "markdown",
      "metadata": {
        "id": "yhUwCGou2cTu"
      },
      "source": [
        "* **<U>ps_car_03_cat</U> and <U>ps_car_05_cat</U> have a large proportion of records with missing values. Remove these variables.**\n",
        "* **For the other categorical variables with missing values, we can leave the missing value -1 as such.**\n",
        "* **<U>ps_reg_03</U> (continuous) has missing values for 18% of all records. Replace by the mean.**\n",
        "* **<U>ps_car_11</U> (ordinal) has only 5 records with missing values. Replace by the mode.**\n",
        "* **<U>ps_car_12</U> (continuous) has only 1 records with missing value. Replace by the mean.**\n",
        "* **<U>ps_car_14</U> (continuous) has missing values for 7% of all records. Replce by the mean.**"
      ]
    },
    {
      "cell_type": "code",
      "metadata": {
        "id": "c7p9jmPo3eLn"
      },
      "source": [
        "# Dropping the variables with too many missing values\n",
        "vars_to_drop = ['ps_car_03_cat', 'ps_car_05_cat']\n",
        "train.drop(vars_to_drop, inplace=True, axis=1)\n",
        "meta.loc[(vars_to_drop), 'keep'] = False # Updating the meta\n",
        "\n",
        "# Imputing with the mean or mode\n",
        "mean_imp = Imputer(missing_values=-1, strategy='mean', fill_value=None, verbose=0, copy=True)\n",
        "mode_imp = Imputer(missing_values=-1, strategy='most_frequent', fill_value=None, verbose=0, copy=True)\n",
        "train['ps_reg_03'] = mean_imp.fit_transform(train[['ps_reg_03']]).ravel()\n",
        "train['ps_car_12'] = mean_imp.fit_transform(train[['ps_car_12']]).ravel()\n",
        "train['ps_car_14'] = mean_imp.fit_transform(train[['ps_car_14']]).ravel()\n",
        "train['ps_car_11'] = mode_imp.fit_transform(train[['ps_car_11']]).ravel()"
      ],
      "execution_count": 74,
      "outputs": []
    },
    {
      "cell_type": "markdown",
      "metadata": {
        "id": "5V8CwN-txu0v"
      },
      "source": [
        "## **Checking the cardinality of the categorical variables**"
      ]
    },
    {
      "cell_type": "code",
      "metadata": {
        "colab": {
          "base_uri": "https://localhost:8080/"
        },
        "id": "lMGKY26uxxSO",
        "outputId": "7a12352b-de17-47a5-9c97-dc7bd38912de"
      },
      "source": [
        "v = meta[(meta.level=='nominal')&(meta.keep)].index\n",
        "\n",
        "for f in v:\n",
        "    dist_values = train[f].value_counts().shape[0]\n",
        "    print(f'Variabel {f} has {dist_values} distinct values')"
      ],
      "execution_count": 75,
      "outputs": [
        {
          "output_type": "stream",
          "name": "stdout",
          "text": [
            "Variabel ps_ind_02_cat has 5 distinct values\n",
            "Variabel ps_ind_04_cat has 3 distinct values\n",
            "Variabel ps_ind_05_cat has 8 distinct values\n",
            "Variabel ps_car_01_cat has 13 distinct values\n",
            "Variabel ps_car_02_cat has 3 distinct values\n",
            "Variabel ps_car_04_cat has 10 distinct values\n",
            "Variabel ps_car_06_cat has 18 distinct values\n",
            "Variabel ps_car_07_cat has 3 distinct values\n",
            "Variabel ps_car_08_cat has 2 distinct values\n",
            "Variabel ps_car_09_cat has 6 distinct values\n",
            "Variabel ps_car_10_cat has 3 distinct values\n",
            "Variabel ps_car_11_cat has 104 distinct values\n"
          ]
        }
      ]
    },
    {
      "cell_type": "markdown",
      "metadata": {
        "id": "XRPf5zYXyNVr"
      },
      "source": [
        "## **_[Script](https://www.kaggle.com/ogrellier)_**\n",
        "## **_[Code](https://www.kaggle.com/ogrellier/python-target-encoding-for-categorical-features)_**\n",
        "\n",
        "### **_[Smoothing is computed like in the following paper by Daniele Micci-Barreca](https://kaggle2.blob.core.windows.net/forum-message-attachments/225952/7441/high%20cardinality%20categoricals.pdf)_**\n",
        "\n",
        "* **trn_series: training categorical feature as a pd.Series**\n",
        "* **tst_series: test categorical feature as a pd.Series**\n",
        "* **target: target data as a pd.Series**\n",
        "* **min_samples_leaf (int): minimum samples to take category average into account**\n",
        "* **smoothing (int): smoothing effect to balance categorical average vs prior**"
      ]
    },
    {
      "cell_type": "code",
      "metadata": {
        "id": "sCGzn-g7yYyb"
      },
      "source": [
        "def add_noise(series, noise_level):\n",
        "    return series * (1+noise_level*np.random.randn(len(series)))\n",
        "\n",
        "def target_encode(trn_series=None, \n",
        "                  tst_series=None, \n",
        "                  target=None, \n",
        "                  min_samples_leaf=1, \n",
        "                  smoothing=1, \n",
        "                  noise_level=0):\n",
        "    \n",
        "    assert len(trn_series) == len(target)\n",
        "    assert trn_series.name == tst_series.name\n",
        "    temp = pd.concat([trn_series, target], axis=1)\n",
        "\n",
        "    # Compute target mean\n",
        "    averages = temp.groupby(by=trn_series.name)[target.name].agg(['mean', 'count'])\n",
        "\n",
        "    # Compute smoothing\n",
        "    smoothing = 1 / (1+np.exp(-(averages['count']-min_samples_leaf)/smoothing))\n",
        "\n",
        "    # Apply average function to all target data\n",
        "    prior = target.mean()\n",
        "\n",
        "    # The bigger the count the less full_avg is taken into account\n",
        "    averages[target.name] = prior * (1-smoothing) + averages['mean'] * smoothing\n",
        "    averages.drop(['mean', 'count'], axis=1, inplace=True)\n",
        "\n",
        "    # Apply averages to trn and tst series\n",
        "    ft_trn_series = pd.merge(\n",
        "        trn_series.to_frame(trn_series.name), \n",
        "        averages.reset_index().rename(columns={'index': target.name, target.name: 'average'}), \n",
        "        on=trn_series.name, \n",
        "        how='left')['average'].rename(trn_series.name+'_mean').fillna(prior)\n",
        "\n",
        "    # pd.merge does not keep the index so restore it\n",
        "    ft_trn_series.index = trn_series.index\n",
        "    ft_tst_series = pd.merge(\n",
        "        tst_series.to_frame(tst_series.name), \n",
        "        averages.reset_index().rename(columns={'index': target.name, target.name: 'average'}), \n",
        "        on=tst_series.name, \n",
        "        how='left')['average'].rename(trn_series.name+'_mean').fillna(prior)\n",
        "\n",
        "    # pd.merge does not keep the index so restore it\n",
        "    ft_tst_series.index = tst_series.index\n",
        "    return add_noise(ft_trn_series, noise_level), add_noise(ft_tst_series, noise_level)"
      ],
      "execution_count": 76,
      "outputs": []
    },
    {
      "cell_type": "code",
      "metadata": {
        "id": "9G1iwu5W1MYb"
      },
      "source": [
        "train_encoded, test_encoded = target_encode(train['ps_car_11_cat'], \n",
        "                                            test['ps_car_11_cat'], \n",
        "                                            target=train.target, \n",
        "                                            min_samples_leaf=100, \n",
        "                                            smoothing=10, \n",
        "                                            noise_level=0.01)\n",
        "\n",
        "train['ps_car_11_cat_te'] = train_encoded\n",
        "train.drop('ps_car_11_cat', axis=1, inplace=True)\n",
        "meta.loc['ps_car_11_cat', 'keep'] = False # Updating the meta\n",
        "test['ps_car_11_cat_te'] = test_encoded\n",
        "test.drop('ps_car_11_cat', axis=1, inplace=True)"
      ],
      "execution_count": 77,
      "outputs": []
    },
    {
      "cell_type": "markdown",
      "metadata": {
        "id": "QUXZVSss2jhw"
      },
      "source": [
        "# **Exploratory Data Visualization**"
      ]
    },
    {
      "cell_type": "markdown",
      "metadata": {
        "id": "DKIflnLK2meZ"
      },
      "source": [
        "## **Categorical variables**"
      ]
    },
    {
      "cell_type": "code",
      "metadata": {
        "colab": {
          "base_uri": "https://localhost:8080/",
          "height": 1000
        },
        "id": "oXluj4Ux2oeP",
        "outputId": "a632810b-3883-4a32-9aca-2a0feea28c10"
      },
      "source": [
        "v = meta[(meta.level=='nominal')&(meta.keep)].index\n",
        "\n",
        "for f in v:\n",
        "    plt.figure()\n",
        "    fig, ax = plt.subplots(figsize=(20, 10))\n",
        "\n",
        "    # Calculate the percentage of target=1 per category value\n",
        "    cat_perc = train[[f, 'target']].groupby([f], as_index=False).mean()\n",
        "    cat_perc.sort_values(by='target', ascending=False, inplace=True)\n",
        "\n",
        "    # Bar plot\n",
        "    # Order the bars descending on target mean\n",
        "    sns.barplot(ax=ax, x=f, y='target', data=cat_perc, order=cat_perc[f])\n",
        "    plt.ylabel('target (%)', fontsize=18)\n",
        "    plt.xlabel(f, fontsize=18)\n",
        "    plt.tick_params(axis='both', which='major', labelsize=18)\n",
        "    plt.show()"
      ],
      "execution_count": 78,
      "outputs": [
        {
          "output_type": "display_data",
          "data": {
            "text/plain": [
              "<Figure size 432x288 with 0 Axes>"
            ]
          },
          "metadata": {}
        },
        {
          "output_type": "display_data",
          "data": {
            "image/png": "[encoded data removed]",
            "text/plain": [
              "<Figure size 1440x720 with 1 Axes>"
            ]
          },
          "metadata": {
            "needs_background": "light"
          }
        },
        {
          "output_type": "display_data",
          "data": {
            "text/plain": [
              "<Figure size 432x288 with 0 Axes>"
            ]
          },
          "metadata": {}
        },
        {
          "output_type": "display_data",
          "data": {
            "image/png": "[encoded data removed]",
            "text/plain": [
              "<Figure size 1440x720 with 1 Axes>"
            ]
          },
          "metadata": {
            "needs_background": "light"
          }
        },
        {
          "output_type": "display_data",
          "data": {
            "text/plain": [
              "<Figure size 432x288 with 0 Axes>"
            ]
          },
          "metadata": {}
        },
        {
          "output_type": "display_data",
          "data": {
            "image/png": "[encoded data removed]",
            "text/plain": [
              "<Figure size 1440x720 with 1 Axes>"
            ]
          },
          "metadata": {
            "needs_background": "light"
          }
        },
        {
          "output_type": "display_data",
          "data": {
            "text/plain": [
              "<Figure size 432x288 with 0 Axes>"
            ]
          },
          "metadata": {}
        },
        {
          "output_type": "display_data",
          "data": {
            "image/png": "[encoded data removed]",
            "text/plain": [
              "<Figure size 1440x720 with 1 Axes>"
            ]
          },
          "metadata": {
            "needs_background": "light"
          }
        },
        {
          "output_type": "display_data",
          "data": {
            "text/plain": [
              "<Figure size 432x288 with 0 Axes>"
            ]
          },
          "metadata": {}
        },
        {
          "output_type": "display_data",
          "data": {
            "image/png": "[encoded data removed]",
            "text/plain": [
              "<Figure size 1440x720 with 1 Axes>"
            ]
          },
          "metadata": {
            "needs_background": "light"
          }
        },
        {
          "output_type": "display_data",
          "data": {
            "text/plain": [
              "<Figure size 432x288 with 0 Axes>"
            ]
          },
          "metadata": {}
        },
        {
          "output_type": "display_data",
          "data": {
            "image/png": "[encoded data removed]",
            "text/plain": [
              "<Figure size 1440x720 with 1 Axes>"
            ]
          },
          "metadata": {
            "needs_background": "light"
          }
        },
        {
          "output_type": "display_data",
          "data": {
            "text/plain": [
              "<Figure size 432x288 with 0 Axes>"
            ]
          },
          "metadata": {}
        },
        {
          "output_type": "display_data",
          "data": {
            "image/png": "[encoded data removed]",
            "text/plain": [
              "<Figure size 1440x720 with 1 Axes>"
            ]
          },
          "metadata": {
            "needs_background": "light"
          }
        },
        {
          "output_type": "display_data",
          "data": {
            "text/plain": [
              "<Figure size 432x288 with 0 Axes>"
            ]
          },
          "metadata": {}
        },
        {
          "output_type": "display_data",
          "data": {
            "image/png": "[encoded data removed]",
            "text/plain": [
              "<Figure size 1440x720 with 1 Axes>"
            ]
          },
          "metadata": {
            "needs_background": "light"
          }
        },
        {
          "output_type": "display_data",
          "data": {
            "text/plain": [
              "<Figure size 432x288 with 0 Axes>"
            ]
          },
          "metadata": {}
        },
        {
          "output_type": "display_data",
          "data": {
            "image/png": "[encoded data removed]",
            "text/plain": [
              "<Figure size 1440x720 with 1 Axes>"
            ]
          },
          "metadata": {
            "needs_background": "light"
          }
        },
        {
          "output_type": "display_data",
          "data": {
            "text/plain": [
              "<Figure size 432x288 with 0 Axes>"
            ]
          },
          "metadata": {}
        },
        {
          "output_type": "display_data",
          "data": {
            "image/png": "[encoded data removed]",
            "text/plain": [
              "<Figure size 1440x720 with 1 Axes>"
            ]
          },
          "metadata": {
            "needs_background": "light"
          }
        },
        {
          "output_type": "display_data",
          "data": {
            "text/plain": [
              "<Figure size 432x288 with 0 Axes>"
            ]
          },
          "metadata": {}
        },
        {
          "output_type": "display_data",
          "data": {
            "image/png": "[encoded data removed]",
            "text/plain": [
              "<Figure size 1440x720 with 1 Axes>"
            ]
          },
          "metadata": {
            "needs_background": "light"
          }
        }
      ]
    },
    {
      "cell_type": "markdown",
      "metadata": {
        "id": "KKwWPih03l3q"
      },
      "source": [
        "## **Interval variables**"
      ]
    },
    {
      "cell_type": "code",
      "metadata": {
        "colab": {
          "base_uri": "https://localhost:8080/",
          "height": 538
        },
        "id": "i8dJ1C6N3nf5",
        "outputId": "c3a03730-c3de-4a71-9a89-a0b63abac8ae"
      },
      "source": [
        "def corr_heatmap(v):\n",
        "    correlations = train[v].corr()\n",
        "\n",
        "    # Create color map ranging between two colors\n",
        "    cmap = sns.diverging_palette(220, 10, as_cmap=True)\n",
        "\n",
        "    fig, ax = plt.subplots(figsize=(10, 10))\n",
        "    sns.heatmap(correlations, cmap=cmap, vmax=1.0, center=0, fmt='.2f', \n",
        "                square=True, linewidths=.5, annot=True, cbar_kws={'shrink': .75})\n",
        "    plt.show()\n",
        "\n",
        "v = meta[(meta.level=='interval')&(meta.keep)].index\n",
        "corr_heatmap(v)"
      ],
      "execution_count": 79,
      "outputs": [
        {
          "output_type": "display_data",
          "data": {
            "image/png": "[encoded data removed]",
            "text/plain": [
              "<Figure size 720x720 with 2 Axes>"
            ]
          },
          "metadata": {
            "needs_background": "light"
          }
        }
      ]
    },
    {
      "cell_type": "markdown",
      "metadata": {
        "id": "Wpteug7z4Yzj"
      },
      "source": [
        "* **ps_reg_02 and ps_reg_03 (0.7)**\n",
        "* **ps_car_12 and ps_car_13 (0.67)**\n",
        "* **ps_car_12 and ps_car_14 (0.58)**\n",
        "* **ps_car_13 and ps_car_15 (0.67)**"
      ]
    },
    {
      "cell_type": "code",
      "metadata": {
        "id": "rihzfJQu4pjN"
      },
      "source": [
        "s = train.sample(frac=0.1)"
      ],
      "execution_count": 80,
      "outputs": []
    },
    {
      "cell_type": "markdown",
      "metadata": {
        "id": "0D9u0bO845tr"
      },
      "source": [
        "### **ps_reg_02 and ps_reg_03**"
      ]
    },
    {
      "cell_type": "code",
      "metadata": {
        "colab": {
          "base_uri": "https://localhost:8080/",
          "height": 369
        },
        "id": "st0d9OsO4rZQ",
        "outputId": "38537d08-4d8f-4879-ff60-e654dbcf7c25"
      },
      "source": [
        "sns.lmplot(x='ps_reg_02', y='ps_reg_03', data=s, hue='target', palette='Set1', scatter_kws={'alpha': 0.3})\n",
        "plt.show()"
      ],
      "execution_count": 81,
      "outputs": [
        {
          "output_type": "display_data",
          "data": {
            "image/png": "[encoded data removed]",
            "text/plain": [
              "<Figure size 402.375x360 with 1 Axes>"
            ]
          },
          "metadata": {
            "needs_background": "light"
          }
        }
      ]
    },
    {
      "cell_type": "markdown",
      "metadata": {
        "id": "8mTyi75e4-d5"
      },
      "source": [
        "### **ps_car_12 and ps_car_13**"
      ]
    },
    {
      "cell_type": "code",
      "metadata": {
        "colab": {
          "base_uri": "https://localhost:8080/",
          "height": 369
        },
        "id": "-dOAA2xV5BZG",
        "outputId": "3da9a7ae-54e3-423b-f1e8-bed7853a4f7d"
      },
      "source": [
        "sns.lmplot(x='ps_car_12', y='ps_car_13', data=s, hue='target', palette='Set1', scatter_kws={'alpha': 0.3})\n",
        "plt.show()"
      ],
      "execution_count": 82,
      "outputs": [
        {
          "output_type": "display_data",
          "data": {
            "image/png": "[encoded data removed]",
            "text/plain": [
              "<Figure size 402.375x360 with 1 Axes>"
            ]
          },
          "metadata": {
            "needs_background": "light"
          }
        }
      ]
    },
    {
      "cell_type": "markdown",
      "metadata": {
        "id": "_G9XNl-m5Nd4"
      },
      "source": [
        "### **ps_car_12 and ps_car_14**"
      ]
    },
    {
      "cell_type": "code",
      "metadata": {
        "colab": {
          "base_uri": "https://localhost:8080/",
          "height": 369
        },
        "id": "L4cbqLJK5PSI",
        "outputId": "abd4acc4-412c-40a7-ba0a-273cfe2089f0"
      },
      "source": [
        "sns.lmplot(x='ps_car_12', y='ps_car_14', data=s, hue='target', palette='Set1', scatter_kws={'alpha': 0.3})\n",
        "plt.show()"
      ],
      "execution_count": 83,
      "outputs": [
        {
          "output_type": "display_data",
          "data": {
            "image/png": "[encoded data removed]",
            "text/plain": [
              "<Figure size 402.375x360 with 1 Axes>"
            ]
          },
          "metadata": {
            "needs_background": "light"
          }
        }
      ]
    },
    {
      "cell_type": "markdown",
      "metadata": {
        "id": "X-Pvp77O5d3X"
      },
      "source": [
        "### **ps_car_13 and ps_car_15**"
      ]
    },
    {
      "cell_type": "code",
      "metadata": {
        "colab": {
          "base_uri": "https://localhost:8080/",
          "height": 369
        },
        "id": "POlhL26Z5gue",
        "outputId": "56ba0a25-8f53-4f6e-e6e4-985d98784cf9"
      },
      "source": [
        "sns.lmplot(x='ps_car_15', y='ps_car_13', data=s, hue='target', palette='Set1', scatter_kws={'alpha': 0.3})\n",
        "plt.show()"
      ],
      "execution_count": 84,
      "outputs": [
        {
          "output_type": "display_data",
          "data": {
            "image/png": "[encoded data removed]",
            "text/plain": [
              "<Figure size 402.375x360 with 1 Axes>"
            ]
          },
          "metadata": {
            "needs_background": "light"
          }
        }
      ]
    },
    {
      "cell_type": "markdown",
      "metadata": {
        "id": "-MODL1EC5zLJ"
      },
      "source": [
        "## **Chekcing the correlations between ordinal variables**"
      ]
    },
    {
      "cell_type": "code",
      "metadata": {
        "colab": {
          "base_uri": "https://localhost:8080/",
          "height": 539
        },
        "id": "mw0VnEU_51hZ",
        "outputId": "a2db912c-b872-4297-976c-1fa53acc1bae"
      },
      "source": [
        "v = meta[(meta.level=='ordinal')&(meta.keep)].index\n",
        "corr_heatmap(v)"
      ],
      "execution_count": 85,
      "outputs": [
        {
          "output_type": "display_data",
          "data": {
            "image/png": "[encoded data removed]",
            "text/plain": [
              "<Figure size 720x720 with 2 Axes>"
            ]
          },
          "metadata": {
            "needs_background": "light"
          }
        }
      ]
    },
    {
      "cell_type": "markdown",
      "metadata": {
        "id": "0q5Ahe9K5-t-"
      },
      "source": [
        "# **Feature engineering**"
      ]
    },
    {
      "cell_type": "markdown",
      "metadata": {
        "id": "c1SNyq1J6DDD"
      },
      "source": [
        "## **Creating dummy variables**"
      ]
    },
    {
      "cell_type": "code",
      "metadata": {
        "colab": {
          "base_uri": "https://localhost:8080/"
        },
        "id": "mtNQpgOq6E_B",
        "outputId": "efc66041-88e6-41dc-9db0-b7d7ff358736"
      },
      "source": [
        "v = meta[(meta.level=='nominal')&(meta.keep)].index\n",
        "print(f'Before dummification we have {train.shape[1]} variables in train')\n",
        "train = pd.get_dummies(train, columns=v, drop_first=True)\n",
        "print(f'After dummfication we have {train.shape[1]} variables in train')"
      ],
      "execution_count": 86,
      "outputs": [
        {
          "output_type": "stream",
          "name": "stdout",
          "text": [
            "Before dummification we have 57 variables in train\n",
            "After dummfication we have 109 variables in train\n"
          ]
        }
      ]
    },
    {
      "cell_type": "markdown",
      "metadata": {
        "id": "uOpn5fMT6ebI"
      },
      "source": [
        "## **Creating interaction variables**"
      ]
    },
    {
      "cell_type": "code",
      "metadata": {
        "colab": {
          "base_uri": "https://localhost:8080/"
        },
        "id": "XiDRy6_l6gjk",
        "outputId": "0dfbe94f-4368-4547-e5bd-ffa5c351b329"
      },
      "source": [
        "v = meta[(meta.level=='interval')&(meta.keep)].index\n",
        "poly = PolynomialFeatures(degree=2, interaction_only=False, include_bias=False)\n",
        "interactions = pd.DataFrame(data=poly.fit_transform(train[v]), columns=poly.get_feature_names(v))\n",
        "interactions.drop(v, axis=1, inplace=True) # Remove the original columns\n",
        "\n",
        "# Concat the interaction variables to the train data\n",
        "print(f'Before creating interactions we have {train.shape[1]} variables in train')\n",
        "train = pd.concat([train, interactions], axis=1)\n",
        "print(f'After creating interactions we have {train.shape[1]} variables in train')"
      ],
      "execution_count": 87,
      "outputs": [
        {
          "output_type": "stream",
          "name": "stdout",
          "text": [
            "Before creating interactions we have 109 variables in train\n",
            "After creating interactions we have 164 variables in train\n"
          ]
        }
      ]
    },
    {
      "cell_type": "markdown",
      "metadata": {
        "id": "Cs5RuNSF7UYo"
      },
      "source": [
        "# **Feature selection**"
      ]
    },
    {
      "cell_type": "markdown",
      "metadata": {
        "id": "bMZonfcb7WYq"
      },
      "source": [
        "## **Removing features with low or zero variance**"
      ]
    },
    {
      "cell_type": "code",
      "metadata": {
        "colab": {
          "base_uri": "https://localhost:8080/"
        },
        "id": "_3_AhTJy7Y1s",
        "outputId": "3223aeab-7686-40bb-bf90-e8244c75c1b2"
      },
      "source": [
        "selector = VarianceThreshold(threshold=.01)\n",
        "selector.fit(train.drop(['id', 'target'], axis=1)) # Fit to train without id and target variables\n",
        "\n",
        "f = np.vectorize(lambda x : not x) # Function to toggle boolean array elements\n",
        "\n",
        "v = train.drop(['id', 'target'], axis=1).columns[f(selector.get_support())]\n",
        "print(f'{len(v)} variables have too low variance.')\n",
        "print(f'These variables are {list(v)}.')"
      ],
      "execution_count": 88,
      "outputs": [
        {
          "output_type": "stream",
          "name": "stdout",
          "text": [
            "28 variables have too low variance.\n",
            "These variables are ['ps_ind_10_bin', 'ps_ind_11_bin', 'ps_ind_12_bin', 'ps_ind_13_bin', 'ps_car_12', 'ps_car_14', 'ps_car_11_cat_te', 'ps_ind_05_cat_2', 'ps_ind_05_cat_5', 'ps_car_01_cat_1', 'ps_car_01_cat_2', 'ps_car_04_cat_3', 'ps_car_04_cat_4', 'ps_car_04_cat_5', 'ps_car_04_cat_6', 'ps_car_04_cat_7', 'ps_car_06_cat_2', 'ps_car_06_cat_5', 'ps_car_06_cat_8', 'ps_car_06_cat_12', 'ps_car_06_cat_16', 'ps_car_06_cat_17', 'ps_car_09_cat_4', 'ps_car_10_cat_1', 'ps_car_10_cat_2', 'ps_car_12^2', 'ps_car_12 ps_car_14', 'ps_car_14^2'].\n"
          ]
        }
      ]
    },
    {
      "cell_type": "markdown",
      "metadata": {
        "id": "fCWHgkGM8z9W"
      },
      "source": [
        "## **Selecting features with a RandomForest and SelecFromModel**"
      ]
    },
    {
      "cell_type": "code",
      "metadata": {
        "colab": {
          "base_uri": "https://localhost:8080/"
        },
        "id": "_7lkIWpT85FI",
        "outputId": "b196c39c-7ff5-4cbb-9b9c-b4d8a955e145"
      },
      "source": [
        "X_train = train.drop(['id', 'target'], axis=1)\n",
        "y_train = train['target']\n",
        "\n",
        "feat_labels = X_train.columns\n",
        "\n",
        "rf = RandomForestClassifier(n_estimators=1000, random_state=0, n_jobs=-1)\n",
        "\n",
        "rf.fit(X_train, y_train)\n",
        "importances = rf.feature_importances_\n",
        "\n",
        "indices = np.argsort(rf.feature_importances_)[::-1]\n",
        "\n",
        "for f in range(X_train.shape[1]):\n",
        "    print('%2d) %-*s %f' % (f+1, 30, feat_labels[indices[f]], importances[indices[f]]))"
      ],
      "execution_count": 90,
      "outputs": [
        {
          "output_type": "stream",
          "name": "stdout",
          "text": [
            " 1) ps_car_11_cat_te               0.021114\n",
            " 2) ps_car_13                      0.017334\n",
            " 3) ps_car_12 ps_car_13            0.017230\n",
            " 4) ps_car_13^2                    0.017218\n",
            " 5) ps_car_13 ps_car_14            0.017203\n",
            " 6) ps_reg_03 ps_car_13            0.017126\n",
            " 7) ps_car_13 ps_car_15            0.016855\n",
            " 8) ps_reg_01 ps_car_13            0.016716\n",
            " 9) ps_reg_03 ps_car_14            0.016242\n",
            "10) ps_reg_03 ps_car_12            0.015562\n",
            "11) ps_reg_03 ps_car_15            0.015125\n",
            "12) ps_car_14 ps_car_15            0.014990\n",
            "13) ps_car_13 ps_calc_01           0.014740\n",
            "14) ps_reg_02 ps_car_13            0.014710\n",
            "15) ps_reg_01 ps_reg_03            0.014706\n",
            "16) ps_car_13 ps_calc_02           0.014666\n",
            "17) ps_car_13 ps_calc_03           0.014628\n",
            "18) ps_reg_01 ps_car_14            0.014317\n",
            "19) ps_reg_03^2                    0.014225\n",
            "20) ps_reg_03                      0.014199\n",
            "21) ps_reg_03 ps_calc_02           0.013789\n",
            "22) ps_reg_03 ps_calc_03           0.013780\n",
            "23) ps_reg_03 ps_calc_01           0.013778\n",
            "24) ps_calc_10                     0.013670\n",
            "25) ps_car_14 ps_calc_02           0.013591\n",
            "26) ps_car_14 ps_calc_03           0.013496\n",
            "27) ps_car_14 ps_calc_01           0.013495\n",
            "28) ps_calc_14                     0.013379\n",
            "29) ps_ind_03                      0.012931\n",
            "30) ps_car_12 ps_car_14            0.012915\n",
            "31) ps_reg_02 ps_car_14            0.012774\n",
            "32) ps_car_14                      0.012757\n",
            "33) ps_car_14^2                    0.012754\n",
            "34) ps_calc_11                     0.012669\n",
            "35) ps_reg_02 ps_reg_03            0.012565\n",
            "36) ps_ind_15                      0.012194\n",
            "37) ps_car_12 ps_car_15            0.010978\n",
            "38) ps_car_15 ps_calc_03           0.010926\n",
            "39) ps_car_15 ps_calc_02           0.010873\n",
            "40) ps_car_15 ps_calc_01           0.010827\n",
            "41) ps_calc_13                     0.010451\n",
            "42) ps_car_12 ps_calc_01           0.010443\n",
            "43) ps_car_12 ps_calc_03           0.010407\n",
            "44) ps_car_12 ps_calc_02           0.010282\n",
            "45) ps_reg_01 ps_car_15            0.010226\n",
            "46) ps_reg_02 ps_car_15            0.010208\n",
            "47) ps_calc_01 ps_calc_02          0.010043\n",
            "48) ps_calc_02 ps_calc_03          0.010028\n",
            "49) ps_calc_01 ps_calc_03          0.010022\n",
            "50) ps_calc_08                     0.009827\n",
            "51) ps_calc_07                     0.009802\n",
            "52) ps_reg_01 ps_car_12            0.009436\n",
            "53) ps_reg_02 ps_car_12            0.009315\n",
            "54) ps_reg_02 ps_calc_03           0.009266\n",
            "55) ps_reg_02 ps_calc_01           0.009242\n",
            "56) ps_reg_02 ps_calc_02           0.009187\n",
            "57) ps_reg_01 ps_calc_02           0.009073\n",
            "58) ps_reg_01 ps_calc_01           0.009055\n",
            "59) ps_reg_01 ps_calc_03           0.009055\n",
            "60) ps_calc_06                     0.009052\n",
            "61) ps_calc_09                     0.008859\n",
            "62) ps_ind_01                      0.008624\n",
            "63) ps_calc_05                     0.008321\n",
            "64) ps_calc_04                     0.008130\n",
            "65) ps_calc_12                     0.008016\n",
            "66) ps_reg_01 ps_reg_02            0.007989\n",
            "67) ps_car_15                      0.006166\n",
            "68) ps_car_15^2                    0.006156\n",
            "69) ps_calc_03                     0.006016\n",
            "70) ps_calc_01^2                   0.006002\n",
            "71) ps_calc_01                     0.005980\n",
            "72) ps_calc_03^2                   0.005952\n",
            "73) ps_calc_02^2                   0.005931\n",
            "74) ps_calc_02                     0.005913\n",
            "75) ps_car_12                      0.005338\n",
            "76) ps_car_12^2                    0.005334\n",
            "77) ps_reg_02                      0.004978\n",
            "78) ps_reg_02^2                    0.004967\n",
            "79) ps_reg_01^2                    0.004163\n",
            "80) ps_reg_01                      0.004157\n",
            "81) ps_car_11                      0.003794\n",
            "82) ps_ind_05_cat_0                0.003561\n",
            "83) ps_ind_17_bin                  0.002838\n",
            "84) ps_calc_17_bin                 0.002682\n",
            "85) ps_calc_16_bin                 0.002603\n",
            "86) ps_calc_19_bin                 0.002585\n",
            "87) ps_calc_18_bin                 0.002482\n",
            "88) ps_ind_04_cat_0                0.002389\n",
            "89) ps_ind_16_bin                  0.002387\n",
            "90) ps_car_01_cat_11               0.002382\n",
            "91) ps_ind_04_cat_1                0.002374\n",
            "92) ps_ind_07_bin                  0.002322\n",
            "93) ps_car_09_cat_2                0.002302\n",
            "94) ps_ind_02_cat_1                0.002239\n",
            "95) ps_car_01_cat_7                0.002097\n",
            "96) ps_car_09_cat_0                0.002094\n",
            "97) ps_ind_02_cat_2                0.002074\n",
            "98) ps_calc_20_bin                 0.002065\n",
            "99) ps_ind_06_bin                  0.002030\n",
            "100) ps_calc_15_bin                 0.001992\n",
            "101) ps_car_06_cat_1                0.001985\n",
            "102) ps_ind_08_bin                  0.001944\n",
            "103) ps_car_07_cat_1                0.001935\n",
            "104) ps_car_09_cat_1                0.001814\n",
            "105) ps_car_06_cat_11               0.001790\n",
            "106) ps_ind_18_bin                  0.001725\n",
            "107) ps_ind_09_bin                  0.001691\n",
            "108) ps_car_01_cat_9                0.001593\n",
            "109) ps_car_01_cat_10               0.001590\n",
            "110) ps_car_06_cat_14               0.001548\n",
            "111) ps_car_01_cat_6                0.001539\n",
            "112) ps_car_01_cat_4                0.001531\n",
            "113) ps_ind_05_cat_6                0.001505\n",
            "114) ps_ind_02_cat_3                0.001413\n",
            "115) ps_car_07_cat_0                0.001365\n",
            "116) ps_car_08_cat_1                0.001344\n",
            "117) ps_car_02_cat_1                0.001338\n",
            "118) ps_car_01_cat_8                0.001327\n",
            "119) ps_car_02_cat_0                0.001325\n",
            "120) ps_car_06_cat_4                0.001235\n",
            "121) ps_ind_05_cat_4                0.001221\n",
            "122) ps_ind_02_cat_4                0.001175\n",
            "123) ps_car_01_cat_5                0.001130\n",
            "124) ps_car_06_cat_6                0.001114\n",
            "125) ps_car_06_cat_10               0.001055\n",
            "126) ps_ind_05_cat_2                0.001031\n",
            "127) ps_car_04_cat_1                0.001026\n",
            "128) ps_car_06_cat_7                0.001004\n",
            "129) ps_car_04_cat_2                0.000979\n",
            "130) ps_car_01_cat_3                0.000898\n",
            "131) ps_car_09_cat_3                0.000888\n",
            "132) ps_car_01_cat_0                0.000882\n",
            "133) ps_car_06_cat_15               0.000849\n",
            "134) ps_ind_14                      0.000843\n",
            "135) ps_car_06_cat_9                0.000781\n",
            "136) ps_ind_05_cat_1                0.000749\n",
            "137) ps_car_06_cat_3                0.000719\n",
            "138) ps_car_10_cat_1                0.000715\n",
            "139) ps_ind_12_bin                  0.000694\n",
            "140) ps_ind_05_cat_3                0.000660\n",
            "141) ps_car_09_cat_4                0.000627\n",
            "142) ps_car_01_cat_2                0.000567\n",
            "143) ps_car_04_cat_8                0.000559\n",
            "144) ps_car_06_cat_17               0.000507\n",
            "145) ps_car_06_cat_16               0.000467\n",
            "146) ps_car_04_cat_9                0.000446\n",
            "147) ps_car_06_cat_12               0.000430\n",
            "148) ps_car_06_cat_13               0.000395\n",
            "149) ps_car_01_cat_1                0.000382\n",
            "150) ps_ind_05_cat_5                0.000319\n",
            "151) ps_car_06_cat_5                0.000280\n",
            "152) ps_ind_11_bin                  0.000212\n",
            "153) ps_car_04_cat_6                0.000198\n",
            "154) ps_ind_13_bin                  0.000149\n",
            "155) ps_car_04_cat_3                0.000147\n",
            "156) ps_car_06_cat_2                0.000143\n",
            "157) ps_car_06_cat_8                0.000101\n",
            "158) ps_car_04_cat_5                0.000101\n",
            "159) ps_car_04_cat_7                0.000084\n",
            "160) ps_ind_10_bin                  0.000073\n",
            "161) ps_car_10_cat_2                0.000066\n",
            "162) ps_car_04_cat_4                0.000040\n"
          ]
        }
      ]
    },
    {
      "cell_type": "code",
      "metadata": {
        "colab": {
          "base_uri": "https://localhost:8080/"
        },
        "id": "PYHbItAQ9lxo",
        "outputId": "c7019d6a-8472-4962-b051-4de9c249c888"
      },
      "source": [
        "sfm = SelectFromModel(rf, threshold='median', prefit=True)\n",
        "print(f'Number of features before selection: {X_train.shape[1]}')\n",
        "n_features = sfm.transform(X_train).shape[1]\n",
        "print(f'Number of features after selection: {n_features}')\n",
        "selected_vars = list(feat_labels[sfm.get_support()])"
      ],
      "execution_count": 91,
      "outputs": [
        {
          "output_type": "stream",
          "name": "stdout",
          "text": [
            "Number of features before selection: 162\n",
            "Number of features after selection: 81\n"
          ]
        }
      ]
    },
    {
      "cell_type": "code",
      "metadata": {
        "id": "WYQwQ-Q0LGRG"
      },
      "source": [
        "train = train[selected_vars+['target']]"
      ],
      "execution_count": 93,
      "outputs": []
    },
    {
      "cell_type": "markdown",
      "metadata": {
        "id": "R7_tHYhw-FQW"
      },
      "source": [
        "# **Feature scaling**"
      ]
    },
    {
      "cell_type": "code",
      "metadata": {
        "colab": {
          "base_uri": "https://localhost:8080/"
        },
        "id": "Uv9_bD81-G38",
        "outputId": "f2b99eb6-5323-4418-aee9-7bed99343a41"
      },
      "source": [
        "scaler = StandardScaler()\n",
        "scaler.fit_transform(train.drop(['target'], axis=1))"
      ],
      "execution_count": 94,
      "outputs": [
        {
          "output_type": "execute_result",
          "data": {
            "text/plain": [
              "array([[-0.45941104, -1.26665356,  1.05087653, ..., -0.72553616,\n",
              "        -1.01071913, -1.06173767],\n",
              "       [ 1.55538958,  0.95034274, -0.63847299, ..., -1.06120876,\n",
              "        -1.01071913,  0.27907892],\n",
              "       [ 1.05168943, -0.52765479, -0.92003125, ...,  1.95984463,\n",
              "        -0.56215309, -1.02449277],\n",
              "       ...,\n",
              "       [-0.9631112 ,  0.58084336,  0.48776003, ..., -0.46445747,\n",
              "         0.18545696,  0.27907892],\n",
              "       [-0.9631112 , -0.89715418, -1.48314775, ..., -0.91202093,\n",
              "        -0.41263108,  0.27907892],\n",
              "       [-0.45941104, -1.26665356,  1.61399304, ...,  0.28148164,\n",
              "        -0.11358706, -0.72653353]])"
            ]
          },
          "metadata": {},
          "execution_count": 94
        }
      ]
    },
    {
      "cell_type": "markdown",
      "metadata": {
        "id": "GOLm6eQi-QIa"
      },
      "source": [
        "# **Conclusion**\n",
        "**Hopefully this notebook helped you with some tips on how to start with this competition. Feel free to vote for it. And if you have questions, post a comment.**"
      ]
    }
  ]
}